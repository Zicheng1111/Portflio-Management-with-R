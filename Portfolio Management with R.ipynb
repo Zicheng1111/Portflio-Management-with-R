{
 "cells": [
  {
   "cell_type": "markdown",
   "id": "a0facf72-ae21-4b49-93a7-249e3808ddae",
   "metadata": {},
   "source": [
    "# Portfolio Management with R \n",
    "\n",
    "## Introduction:\n",
    "In this project, I examined the stock prices of Apple, Activision, Microsoft, and IBM. I collected the data via ALPHA VANTAGE API, after which collected data were stored into a DataFrame structure. Some of plots are formed for data visualization. A random portfolio was also established, after which the worth versus time were plotted.\n",
    "\n",
    "The project has 3 parts:\n",
    "\n",
    "* [Part 1: Collecting stock data via ALPHA VANTAGE API](#Collecting_data)\n",
    "* [Part 2: Plotting the price change of stocks and computing their returns](#Plotting_price_changes)\n",
    "* [Part 3: Establishing a random portfolio and computing the worth over time](#Establishing_portfolios)"
   ]
  },
  {
   "cell_type": "markdown",
   "id": "d78951e9-1668-462e-9f3b-26fa4c2c671d",
   "metadata": {},
   "source": [
    "<a id=\"Collecting_data\"></a>\n",
    "\n",
    "## Part 1: Collecting stock data via ALPHA VANTAGE API"
   ]
  },
  {
   "cell_type": "markdown",
   "id": "63eba931-37e1-4be3-b34e-acfd50bdaba3",
   "metadata": {},
   "source": [
    "Import all relevant packages with updates"
   ]
  },
  {
   "cell_type": "code",
   "execution_count": 1,
   "id": "6502529d-8090-4597-8c16-8ae50001c4d7",
   "metadata": {},
   "outputs": [],
   "source": [
    "install.packages(\"https://cran.r-project.org/src/contrib/Archive/rlang/rlang_0.4.10.tar.gz\", repo=NULL, type=\"source\")"
   ]
  },
  {
   "cell_type": "code",
   "execution_count": 2,
   "id": "c6b2a26c-bbc9-4dae-8afb-b13db75c2815",
   "metadata": {},
   "outputs": [
    {
     "name": "stderr",
     "output_type": "stream",
     "text": [
      "Updating HTML index of packages in '.Library'\n",
      "Making 'packages.html' ... done\n"
     ]
    }
   ],
   "source": [
    "install.packages(\"tidymodels\")"
   ]
  },
  {
   "cell_type": "code",
   "execution_count": 3,
   "id": "93f142ed-13c8-4a92-8a94-e00bec499370",
   "metadata": {},
   "outputs": [
    {
     "name": "stderr",
     "output_type": "stream",
     "text": [
      "── Attaching packages ─────────────────────────────────────── tidyverse 1.3.0 ──\n",
      "✔ ggplot2 3.3.5     ✔ purrr   0.3.4\n",
      "✔ tibble  3.1.4     ✔ dplyr   1.0.7\n",
      "✔ tidyr   1.1.4     ✔ stringr 1.4.0\n",
      "✔ readr   1.3.1     ✔ forcats 0.5.0\n",
      "── Conflicts ────────────────────────────────────────── tidyverse_conflicts() ──\n",
      "✖ dplyr::filter() masks stats::filter()\n",
      "✖ dplyr::lag()    masks stats::lag()\n"
     ]
    },
    {
     "name": "stdout",
     "output_type": "stream",
     "text": [
      "The following packages are out of date:\n",
      "\n",
      "• dbplyr        (1.4.3 -> 2.1.1)\n",
      "• dtplyr        (0 -> 1.1.0)\n",
      "• forcats       (0.5.0 -> 0.5.1)\n",
      "• googledrive   (0 -> 2.0.0)\n",
      "• googlesheets4 (0 -> 1.0.0)\n",
      "• haven         (2.2.0 -> 2.4.3)\n",
      "• hms           (0.5.3 -> 1.1.1)\n",
      "• httr          (1.4.1 -> 1.4.2)\n",
      "• jsonlite      (1.6.1 -> 1.7.2)\n",
      "• lubridate     (1.7.8 -> 1.7.10)\n",
      "• magrittr      (1.5 -> 2.0.1)\n",
      "• modelr        (0.1.7 -> 0.1.8)\n",
      "• readr         (1.3.1 -> 2.0.2)\n",
      "• reprex        (0.3.0 -> 2.0.1)\n",
      "• rlang         (0.4.10 -> 0.4.11)\n",
      "• rvest         (0.3.5 -> 1.0.1)\n",
      "\n",
      "Start a clean R session then run:\n",
      "install.packages(c(\"dbplyr\", \"dtplyr\", \"forcats\", \"googledrive\", \"googlesheets4\", \n",
      "\"haven\", \"hms\", \"httr\", \"jsonlite\", \"lubridate\", \"magrittr\", \n",
      "\"modelr\", \"readr\", \"reprex\", \"rlang\", \"rvest\"))\n"
     ]
    }
   ],
   "source": [
    "library(tidyverse)\n",
    "tidyverse_update(recursive = FALSE, repos = getOption(\"repos\"))"
   ]
  },
  {
   "cell_type": "code",
   "execution_count": 4,
   "id": "cd605fe4-c227-4eec-bcbe-53319ae1d06d",
   "metadata": {},
   "outputs": [
    {
     "name": "stderr",
     "output_type": "stream",
     "text": [
      "Loading required package: httr\n"
     ]
    }
   ],
   "source": [
    "require(\"httr\")\n",
    "library(httr)"
   ]
  },
  {
   "cell_type": "code",
   "execution_count": 5,
   "id": "6678412e-f162-491f-a9e1-c3770e440358",
   "metadata": {},
   "outputs": [
    {
     "name": "stderr",
     "output_type": "stream",
     "text": [
      "\n",
      "Attaching package: ‘glue’\n",
      "\n",
      "The following object is masked from ‘package:dplyr’:\n",
      "\n",
      "    collapse\n",
      "\n"
     ]
    }
   ],
   "source": [
    "library(glue)"
   ]
  },
  {
   "cell_type": "markdown",
   "id": "0d282015-5aca-4bfe-ad99-4a83ed5a2308",
   "metadata": {},
   "source": [
    "Begin to collect the data by API"
   ]
  },
  {
   "cell_type": "code",
   "execution_count": 6,
   "id": "f1a32237-b1ed-4b67-8ab4-90ce113a641e",
   "metadata": {},
   "outputs": [
    {
     "data": {
      "text/html": [
       "'https://www.alphavantage.co/query?function=TIME_SERIES_DAILY_ADJUSTED&amp;symbol=AAPL&amp;outputsize=full&amp;apikey=OSW0TCH5SD0ZZYRB'"
      ],
      "text/latex": [
       "'https://www.alphavantage.co/query?function=TIME\\_SERIES\\_DAILY\\_ADJUSTED\\&symbol=AAPL\\&outputsize=full\\&apikey=OSW0TCH5SD0ZZYRB'"
      ],
      "text/markdown": [
       "'https://www.alphavantage.co/query?function=TIME_SERIES_DAILY_ADJUSTED&amp;symbol=AAPL&amp;outputsize=full&amp;apikey=OSW0TCH5SD0ZZYRB'"
      ],
      "text/plain": [
       "https://www.alphavantage.co/query?function=TIME_SERIES_DAILY_ADJUSTED&symbol=AAPL&outputsize=full&apikey=OSW0TCH5SD0ZZYRB"
      ]
     },
     "metadata": {},
     "output_type": "display_data"
    }
   ],
   "source": [
    "url <- \"https://www.alphavantage.co/query?\"\n",
    "api_key <- \"OSW0TCH5SD0ZZYRB\"\n",
    "functions <-\"TIME_SERIES_DAILY_ADJUSTED\"\n",
    "symbol <- \"AAPL\"\n",
    "outputsize <- \"full\"\n",
    "datatype <- \"json\"\n",
    "query_url <- glue(\"https://www.alphavantage.co/query?function={functions}&symbol={symbol}&outputsize={outputsize}&apikey={api_key}\")\n",
    "query_url"
   ]
  },
  {
   "cell_type": "code",
   "execution_count": 7,
   "id": "56f095d7-7e14-40c2-8baf-3fd42d09ddc9",
   "metadata": {},
   "outputs": [
    {
     "data": {
      "text/plain": [
       "Response [https://www.alphavantage.co/query?function=TIME_SERIES_DAILY_ADJUSTED&symbol=AAPL&outputsize=full&apikey=OSW0TCH5SD0ZZYRB]\n",
       "  Date: 2021-09-28 17:46\n",
       "  Status: 200\n",
       "  Content-Type: application/json\n",
       "  Size: 1.86 MB\n",
       "{\n",
       "    \"Meta Data\": {\n",
       "        \"1. Information\": \"Daily Time Series with Splits and Dividend Events\",\n",
       "        \"2. Symbol\": \"AAPL\",\n",
       "        \"3. Last Refreshed\": \"2021-09-27\",\n",
       "        \"4. Output Size\": \"Full size\",\n",
       "        \"5. Time Zone\": \"US/Eastern\"\n",
       "    },\n",
       "    \"Time Series (Daily)\": {\n",
       "        \"2021-09-27\": {\n",
       "..."
      ]
     },
     "metadata": {},
     "output_type": "display_data"
    }
   ],
   "source": [
    "response <- GET(query_url)\n",
    "response"
   ]
  },
  {
   "cell_type": "code",
   "execution_count": 8,
   "id": "2e047eab-74e1-4797-869d-88a17133f0b9",
   "metadata": {},
   "outputs": [
    {
     "data": {
      "text/html": [
       "'response'"
      ],
      "text/latex": [
       "'response'"
      ],
      "text/markdown": [
       "'response'"
      ],
      "text/plain": [
       "[1] \"response\""
      ]
     },
     "metadata": {},
     "output_type": "display_data"
    }
   ],
   "source": [
    "class(response)"
   ]
  },
  {
   "cell_type": "code",
   "execution_count": 9,
   "id": "3dfde81e-bc4e-451d-8e54-fd5a155b948a",
   "metadata": {},
   "outputs": [
    {
     "data": {
      "text/html": [
       "'list'"
      ],
      "text/latex": [
       "'list'"
      ],
      "text/markdown": [
       "'list'"
      ],
      "text/plain": [
       "[1] \"list\""
      ]
     },
     "metadata": {},
     "output_type": "display_data"
    }
   ],
   "source": [
    "response_json_result <- content(response, as=\"parsed\")\n",
    "class(response_json_result)"
   ]
  },
  {
   "cell_type": "code",
   "execution_count": 10,
   "id": "98c8b389-4673-49da-b739-d67eefa76ac1",
   "metadata": {},
   "outputs": [],
   "source": [
    "results <- response_json_result$'Time Series (Daily)'"
   ]
  },
  {
   "cell_type": "code",
   "execution_count": 11,
   "id": "3cde535b-c28e-44f6-85c4-9c1ce2d6acb8",
   "metadata": {},
   "outputs": [
    {
     "data": {
      "text/html": [
       "'0.615135882727'"
      ],
      "text/latex": [
       "'0.615135882727'"
      ],
      "text/markdown": [
       "'0.615135882727'"
      ],
      "text/plain": [
       "[1] \"0.615135882727\""
      ]
     },
     "metadata": {},
     "output_type": "display_data"
    }
   ],
   "source": [
    "results$'1999-11-02'$'5. adjusted close'"
   ]
  },
  {
   "cell_type": "code",
   "execution_count": 12,
   "id": "7cd91817-ad03-4503-8544-9cd8b5f05831",
   "metadata": {},
   "outputs": [
    {
     "data": {
      "text/html": [
       "'2021-09-24'"
      ],
      "text/latex": [
       "'2021-09-24'"
      ],
      "text/markdown": [
       "'2021-09-24'"
      ],
      "text/plain": [
       "[1] \"2021-09-24\""
      ]
     },
     "metadata": {},
     "output_type": "display_data"
    }
   ],
   "source": [
    "names(results[2])"
   ]
  },
  {
   "cell_type": "code",
   "execution_count": 13,
   "id": "694a107f-0178-4460-a88f-c4b31bdc8c6b",
   "metadata": {},
   "outputs": [
    {
     "data": {
      "text/html": [
       "'146.83'"
      ],
      "text/latex": [
       "'146.83'"
      ],
      "text/markdown": [
       "'146.83'"
      ],
      "text/plain": [
       "[1] \"146.83\""
      ]
     },
     "metadata": {},
     "output_type": "display_data"
    }
   ],
   "source": [
    "results$'2021-09-23'$'5. adjusted close'"
   ]
  },
  {
   "cell_type": "code",
   "execution_count": 14,
   "id": "6969ebc5-d62c-48ad-999b-e1039b41fbb5",
   "metadata": {},
   "outputs": [
    {
     "data": {
      "text/html": [
       "5512"
      ],
      "text/latex": [
       "5512"
      ],
      "text/markdown": [
       "5512"
      ],
      "text/plain": [
       "[1] 5512"
      ]
     },
     "metadata": {},
     "output_type": "display_data"
    }
   ],
   "source": [
    "length(results)"
   ]
  },
  {
   "cell_type": "markdown",
   "id": "d40c005e-4430-4da4-b48a-362b473cca48",
   "metadata": {},
   "source": [
    "Create an empty `DataFrame`"
   ]
  },
  {
   "cell_type": "code",
   "execution_count": 15,
   "id": "ba50578f-0748-490f-a768-89985fa2daec",
   "metadata": {},
   "outputs": [],
   "source": [
    "apple_table <- data.frame(\"Date\"=rep(0,length(results)),\"Price\"=rep(0,length(results)))"
   ]
  },
  {
   "cell_type": "code",
   "execution_count": 16,
   "id": "a64bea72-42c7-4dea-90e5-90868a458b63",
   "metadata": {},
   "outputs": [
    {
     "data": {
      "text/html": [
       "<table>\n",
       "<caption>A data.frame: 7 × 2</caption>\n",
       "<thead>\n",
       "\t<tr><th></th><th scope=col>Date</th><th scope=col>Price</th></tr>\n",
       "\t<tr><th></th><th scope=col>&lt;dbl&gt;</th><th scope=col>&lt;dbl&gt;</th></tr>\n",
       "</thead>\n",
       "<tbody>\n",
       "\t<tr><th scope=row>1</th><td>0</td><td>0</td></tr>\n",
       "\t<tr><th scope=row>2</th><td>0</td><td>0</td></tr>\n",
       "\t<tr><th scope=row>3</th><td>0</td><td>0</td></tr>\n",
       "\t<tr><th scope=row>4</th><td>0</td><td>0</td></tr>\n",
       "\t<tr><th scope=row>5</th><td>0</td><td>0</td></tr>\n",
       "\t<tr><th scope=row>6</th><td>0</td><td>0</td></tr>\n",
       "\t<tr><th scope=row>7</th><td>0</td><td>0</td></tr>\n",
       "</tbody>\n",
       "</table>\n"
      ],
      "text/latex": [
       "A data.frame: 7 × 2\n",
       "\\begin{tabular}{r|ll}\n",
       "  & Date & Price\\\\\n",
       "  & <dbl> & <dbl>\\\\\n",
       "\\hline\n",
       "\t1 & 0 & 0\\\\\n",
       "\t2 & 0 & 0\\\\\n",
       "\t3 & 0 & 0\\\\\n",
       "\t4 & 0 & 0\\\\\n",
       "\t5 & 0 & 0\\\\\n",
       "\t6 & 0 & 0\\\\\n",
       "\t7 & 0 & 0\\\\\n",
       "\\end{tabular}\n"
      ],
      "text/markdown": [
       "\n",
       "A data.frame: 7 × 2\n",
       "\n",
       "| <!--/--> | Date &lt;dbl&gt; | Price &lt;dbl&gt; |\n",
       "|---|---|---|\n",
       "| 1 | 0 | 0 |\n",
       "| 2 | 0 | 0 |\n",
       "| 3 | 0 | 0 |\n",
       "| 4 | 0 | 0 |\n",
       "| 5 | 0 | 0 |\n",
       "| 6 | 0 | 0 |\n",
       "| 7 | 0 | 0 |\n",
       "\n"
      ],
      "text/plain": [
       "  Date Price\n",
       "1 0    0    \n",
       "2 0    0    \n",
       "3 0    0    \n",
       "4 0    0    \n",
       "5 0    0    \n",
       "6 0    0    \n",
       "7 0    0    "
      ]
     },
     "metadata": {},
     "output_type": "display_data"
    }
   ],
   "source": [
    "Date=c()\n",
    "for (i in 1:length(results)){\n",
    "    date <- names(results[i])\n",
    "    Date <- c(Date,date)\n",
    "}\n",
    "head(apple_table,n=7)"
   ]
  },
  {
   "cell_type": "code",
   "execution_count": 17,
   "id": "03db0c15-be10-496b-84e9-0b49f47def5e",
   "metadata": {},
   "outputs": [
    {
     "data": {
      "text/html": [
       "<style>\n",
       ".list-inline {list-style: none; margin:0; padding: 0}\n",
       ".list-inline>li {display: inline-block}\n",
       ".list-inline>li:not(:last-child)::after {content: \"\\00b7\"; padding: 0 .5ex}\n",
       "</style>\n",
       "<ol class=list-inline><li>'145.37'</li><li>'146.92'</li><li>'146.83'</li><li>'145.85'</li><li>'143.43'</li><li>'142.94'</li></ol>\n"
      ],
      "text/latex": [
       "\\begin{enumerate*}\n",
       "\\item '145.37'\n",
       "\\item '146.92'\n",
       "\\item '146.83'\n",
       "\\item '145.85'\n",
       "\\item '143.43'\n",
       "\\item '142.94'\n",
       "\\end{enumerate*}\n"
      ],
      "text/markdown": [
       "1. '145.37'\n",
       "2. '146.92'\n",
       "3. '146.83'\n",
       "4. '145.85'\n",
       "5. '143.43'\n",
       "6. '142.94'\n",
       "\n",
       "\n"
      ],
      "text/plain": [
       "[1] \"145.37\" \"146.92\" \"146.83\" \"145.85\" \"143.43\" \"142.94\""
      ]
     },
     "metadata": {},
     "output_type": "display_data"
    }
   ],
   "source": [
    "Prices <-c()\n",
    "for (j in results){\n",
    "    price <- j$'5. adjusted close'\n",
    "    Prices <- c(Prices,price)\n",
    "}\n",
    "head(Prices)"
   ]
  },
  {
   "cell_type": "markdown",
   "id": "9ad491ff-5939-4091-879f-a4e91c133f97",
   "metadata": {},
   "source": [
    "Insert data into the empty `DataFrame` for `Apple` as an example"
   ]
  },
  {
   "cell_type": "code",
   "execution_count": 18,
   "id": "122f588b-91bf-4a4e-8b1f-a14b24d59ce8",
   "metadata": {},
   "outputs": [
    {
     "data": {
      "text/html": [
       "<table>\n",
       "<caption>A data.frame: 6 × 2</caption>\n",
       "<thead>\n",
       "\t<tr><th></th><th scope=col>Date</th><th scope=col>Price</th></tr>\n",
       "\t<tr><th></th><th scope=col>&lt;chr&gt;</th><th scope=col>&lt;chr&gt;</th></tr>\n",
       "</thead>\n",
       "<tbody>\n",
       "\t<tr><th scope=row>1</th><td>2021-09-27</td><td>145.37</td></tr>\n",
       "\t<tr><th scope=row>2</th><td>2021-09-24</td><td>146.92</td></tr>\n",
       "\t<tr><th scope=row>3</th><td>2021-09-23</td><td>146.83</td></tr>\n",
       "\t<tr><th scope=row>4</th><td>2021-09-22</td><td>145.85</td></tr>\n",
       "\t<tr><th scope=row>5</th><td>2021-09-21</td><td>143.43</td></tr>\n",
       "\t<tr><th scope=row>6</th><td>2021-09-20</td><td>142.94</td></tr>\n",
       "</tbody>\n",
       "</table>\n"
      ],
      "text/latex": [
       "A data.frame: 6 × 2\n",
       "\\begin{tabular}{r|ll}\n",
       "  & Date & Price\\\\\n",
       "  & <chr> & <chr>\\\\\n",
       "\\hline\n",
       "\t1 & 2021-09-27 & 145.37\\\\\n",
       "\t2 & 2021-09-24 & 146.92\\\\\n",
       "\t3 & 2021-09-23 & 146.83\\\\\n",
       "\t4 & 2021-09-22 & 145.85\\\\\n",
       "\t5 & 2021-09-21 & 143.43\\\\\n",
       "\t6 & 2021-09-20 & 142.94\\\\\n",
       "\\end{tabular}\n"
      ],
      "text/markdown": [
       "\n",
       "A data.frame: 6 × 2\n",
       "\n",
       "| <!--/--> | Date &lt;chr&gt; | Price &lt;chr&gt; |\n",
       "|---|---|---|\n",
       "| 1 | 2021-09-27 | 145.37 |\n",
       "| 2 | 2021-09-24 | 146.92 |\n",
       "| 3 | 2021-09-23 | 146.83 |\n",
       "| 4 | 2021-09-22 | 145.85 |\n",
       "| 5 | 2021-09-21 | 143.43 |\n",
       "| 6 | 2021-09-20 | 142.94 |\n",
       "\n"
      ],
      "text/plain": [
       "  Date       Price \n",
       "1 2021-09-27 145.37\n",
       "2 2021-09-24 146.92\n",
       "3 2021-09-23 146.83\n",
       "4 2021-09-22 145.85\n",
       "5 2021-09-21 143.43\n",
       "6 2021-09-20 142.94"
      ]
     },
     "metadata": {},
     "output_type": "display_data"
    }
   ],
   "source": [
    "apple_table$Date <- as.vector(Date)\n",
    "apple_table$Price <- as.vector(Prices)\n",
    "head(apple_table)"
   ]
  },
  {
   "cell_type": "code",
   "execution_count": 19,
   "id": "34bd93d6-e571-4ef1-9d81-6fc5fab53353",
   "metadata": {},
   "outputs": [
    {
     "data": {
      "text/html": [
       "<table>\n",
       "<caption>A data.frame: 6 × 2</caption>\n",
       "<thead>\n",
       "\t<tr><th></th><th scope=col>Date</th><th scope=col>Price</th></tr>\n",
       "\t<tr><th></th><th scope=col>&lt;date&gt;</th><th scope=col>&lt;chr&gt;</th></tr>\n",
       "</thead>\n",
       "<tbody>\n",
       "\t<tr><th scope=row>1</th><td>2021-09-27</td><td>145.37</td></tr>\n",
       "\t<tr><th scope=row>2</th><td>2021-09-24</td><td>146.92</td></tr>\n",
       "\t<tr><th scope=row>3</th><td>2021-09-23</td><td>146.83</td></tr>\n",
       "\t<tr><th scope=row>4</th><td>2021-09-22</td><td>145.85</td></tr>\n",
       "\t<tr><th scope=row>5</th><td>2021-09-21</td><td>143.43</td></tr>\n",
       "\t<tr><th scope=row>6</th><td>2021-09-20</td><td>142.94</td></tr>\n",
       "</tbody>\n",
       "</table>\n"
      ],
      "text/latex": [
       "A data.frame: 6 × 2\n",
       "\\begin{tabular}{r|ll}\n",
       "  & Date & Price\\\\\n",
       "  & <date> & <chr>\\\\\n",
       "\\hline\n",
       "\t1 & 2021-09-27 & 145.37\\\\\n",
       "\t2 & 2021-09-24 & 146.92\\\\\n",
       "\t3 & 2021-09-23 & 146.83\\\\\n",
       "\t4 & 2021-09-22 & 145.85\\\\\n",
       "\t5 & 2021-09-21 & 143.43\\\\\n",
       "\t6 & 2021-09-20 & 142.94\\\\\n",
       "\\end{tabular}\n"
      ],
      "text/markdown": [
       "\n",
       "A data.frame: 6 × 2\n",
       "\n",
       "| <!--/--> | Date &lt;date&gt; | Price &lt;chr&gt; |\n",
       "|---|---|---|\n",
       "| 1 | 2021-09-27 | 145.37 |\n",
       "| 2 | 2021-09-24 | 146.92 |\n",
       "| 3 | 2021-09-23 | 146.83 |\n",
       "| 4 | 2021-09-22 | 145.85 |\n",
       "| 5 | 2021-09-21 | 143.43 |\n",
       "| 6 | 2021-09-20 | 142.94 |\n",
       "\n"
      ],
      "text/plain": [
       "  Date       Price \n",
       "1 2021-09-27 145.37\n",
       "2 2021-09-24 146.92\n",
       "3 2021-09-23 146.83\n",
       "4 2021-09-22 145.85\n",
       "5 2021-09-21 143.43\n",
       "6 2021-09-20 142.94"
      ]
     },
     "metadata": {},
     "output_type": "display_data"
    }
   ],
   "source": [
    "apple_table$Date <- as.Date(apple_table$Date)\n",
    "head(apple_table)"
   ]
  },
  {
   "cell_type": "markdown",
   "id": "2e2b236d-68f5-40d1-bf9c-4e9e25beb933",
   "metadata": {},
   "source": [
    "Repeat the previous process for all of companies"
   ]
  },
  {
   "cell_type": "code",
   "execution_count": 20,
   "id": "b8a0e3db-5ea7-44c6-ab08-2eb14a75dd69",
   "metadata": {},
   "outputs": [
    {
     "data": {
      "text/html": [
       "<table>\n",
       "<caption>A data.frame: 12 × 5</caption>\n",
       "<thead>\n",
       "\t<tr><th></th><th scope=col>Date</th><th scope=col>Apple</th><th scope=col>Activision</th><th scope=col>Microsoft</th><th scope=col>IBM</th></tr>\n",
       "\t<tr><th></th><th scope=col>&lt;chr&gt;</th><th scope=col>&lt;chr&gt;</th><th scope=col>&lt;chr&gt;</th><th scope=col>&lt;chr&gt;</th><th scope=col>&lt;chr&gt;</th></tr>\n",
       "</thead>\n",
       "<tbody>\n",
       "\t<tr><th scope=row>1</th><td>2021-09-27</td><td>145.37</td><td>75.08</td><td>294.17</td><td>138.56</td></tr>\n",
       "\t<tr><th scope=row>2</th><td>2021-09-24</td><td>146.92</td><td>75.26</td><td>299.35</td><td>137.49</td></tr>\n",
       "\t<tr><th scope=row>3</th><td>2021-09-23</td><td>146.83</td><td>74.67</td><td>299.56</td><td>136.73</td></tr>\n",
       "\t<tr><th scope=row>4</th><td>2021-09-22</td><td>145.85</td><td>72.81</td><td>298.58</td><td>134.63</td></tr>\n",
       "\t<tr><th scope=row>5</th><td>2021-09-21</td><td>143.43</td><td>73.03</td><td>294.8 </td><td>132.97</td></tr>\n",
       "\t<tr><th scope=row>6</th><td>2021-09-20</td><td>142.94</td><td>76.18</td><td>294.3 </td><td>134.31</td></tr>\n",
       "\t<tr><th scope=row>7</th><td>2021-09-17</td><td>146.06</td><td>79.56</td><td>299.87</td><td>135.23</td></tr>\n",
       "\t<tr><th scope=row>8</th><td>2021-09-16</td><td>148.79</td><td>79.28</td><td>305.22</td><td>136.43</td></tr>\n",
       "\t<tr><th scope=row>9</th><td>2021-09-15</td><td>149.03</td><td>78.25</td><td>304.82</td><td>137.2 </td></tr>\n",
       "\t<tr><th scope=row>10</th><td>2021-09-14</td><td>148.12</td><td>77.84</td><td>299.79</td><td>136.22</td></tr>\n",
       "\t<tr><th scope=row>11</th><td>2021-09-13</td><td>149.55</td><td>78.53</td><td>296.99</td><td>138.15</td></tr>\n",
       "\t<tr><th scope=row>12</th><td>2021-09-10</td><td>148.97</td><td>79.64</td><td>295.71</td><td>137.02</td></tr>\n",
       "</tbody>\n",
       "</table>\n"
      ],
      "text/latex": [
       "A data.frame: 12 × 5\n",
       "\\begin{tabular}{r|lllll}\n",
       "  & Date & Apple & Activision & Microsoft & IBM\\\\\n",
       "  & <chr> & <chr> & <chr> & <chr> & <chr>\\\\\n",
       "\\hline\n",
       "\t1 & 2021-09-27 & 145.37 & 75.08 & 294.17 & 138.56\\\\\n",
       "\t2 & 2021-09-24 & 146.92 & 75.26 & 299.35 & 137.49\\\\\n",
       "\t3 & 2021-09-23 & 146.83 & 74.67 & 299.56 & 136.73\\\\\n",
       "\t4 & 2021-09-22 & 145.85 & 72.81 & 298.58 & 134.63\\\\\n",
       "\t5 & 2021-09-21 & 143.43 & 73.03 & 294.8  & 132.97\\\\\n",
       "\t6 & 2021-09-20 & 142.94 & 76.18 & 294.3  & 134.31\\\\\n",
       "\t7 & 2021-09-17 & 146.06 & 79.56 & 299.87 & 135.23\\\\\n",
       "\t8 & 2021-09-16 & 148.79 & 79.28 & 305.22 & 136.43\\\\\n",
       "\t9 & 2021-09-15 & 149.03 & 78.25 & 304.82 & 137.2 \\\\\n",
       "\t10 & 2021-09-14 & 148.12 & 77.84 & 299.79 & 136.22\\\\\n",
       "\t11 & 2021-09-13 & 149.55 & 78.53 & 296.99 & 138.15\\\\\n",
       "\t12 & 2021-09-10 & 148.97 & 79.64 & 295.71 & 137.02\\\\\n",
       "\\end{tabular}\n"
      ],
      "text/markdown": [
       "\n",
       "A data.frame: 12 × 5\n",
       "\n",
       "| <!--/--> | Date &lt;chr&gt; | Apple &lt;chr&gt; | Activision &lt;chr&gt; | Microsoft &lt;chr&gt; | IBM &lt;chr&gt; |\n",
       "|---|---|---|---|---|---|\n",
       "| 1 | 2021-09-27 | 145.37 | 75.08 | 294.17 | 138.56 |\n",
       "| 2 | 2021-09-24 | 146.92 | 75.26 | 299.35 | 137.49 |\n",
       "| 3 | 2021-09-23 | 146.83 | 74.67 | 299.56 | 136.73 |\n",
       "| 4 | 2021-09-22 | 145.85 | 72.81 | 298.58 | 134.63 |\n",
       "| 5 | 2021-09-21 | 143.43 | 73.03 | 294.8  | 132.97 |\n",
       "| 6 | 2021-09-20 | 142.94 | 76.18 | 294.3  | 134.31 |\n",
       "| 7 | 2021-09-17 | 146.06 | 79.56 | 299.87 | 135.23 |\n",
       "| 8 | 2021-09-16 | 148.79 | 79.28 | 305.22 | 136.43 |\n",
       "| 9 | 2021-09-15 | 149.03 | 78.25 | 304.82 | 137.2  |\n",
       "| 10 | 2021-09-14 | 148.12 | 77.84 | 299.79 | 136.22 |\n",
       "| 11 | 2021-09-13 | 149.55 | 78.53 | 296.99 | 138.15 |\n",
       "| 12 | 2021-09-10 | 148.97 | 79.64 | 295.71 | 137.02 |\n",
       "\n"
      ],
      "text/plain": [
       "   Date       Apple  Activision Microsoft IBM   \n",
       "1  2021-09-27 145.37 75.08      294.17    138.56\n",
       "2  2021-09-24 146.92 75.26      299.35    137.49\n",
       "3  2021-09-23 146.83 74.67      299.56    136.73\n",
       "4  2021-09-22 145.85 72.81      298.58    134.63\n",
       "5  2021-09-21 143.43 73.03      294.8     132.97\n",
       "6  2021-09-20 142.94 76.18      294.3     134.31\n",
       "7  2021-09-17 146.06 79.56      299.87    135.23\n",
       "8  2021-09-16 148.79 79.28      305.22    136.43\n",
       "9  2021-09-15 149.03 78.25      304.82    137.2 \n",
       "10 2021-09-14 148.12 77.84      299.79    136.22\n",
       "11 2021-09-13 149.55 78.53      296.99    138.15\n",
       "12 2021-09-10 148.97 79.64      295.71    137.02"
      ]
     },
     "metadata": {},
     "output_type": "display_data"
    }
   ],
   "source": [
    "stock_lists <- c(\"AAPL\"=\"Apple\",\"ATVI\"=\"Activision\",\"MSFT\"=\"Microsoft\",\"IBM\"=\"IBM\")\n",
    "stock_table <- data.frame(\"Date\"=rep(0,length(results)),\"Apple\"=rep(0,length(results)),\"Activision\"=rep(0,length(results)),\n",
    "                          \"Microsoft\"=rep(0,length(results)),\"IBM\"=rep(0,length(results)))\n",
    "stock_table$Date <- as.vector(Date)\n",
    "for (i in names(stock_lists)){\n",
    "    url <- \"https://www.alphavantage.co/query?\"\n",
    "    api_key <- \"OSW0TCH5SD0ZZYRB\"\n",
    "    functions <-\"TIME_SERIES_DAILY_ADJUSTED\"\n",
    "    symbol <- i\n",
    "    outputsize <- \"full\"\n",
    "    datatype <- \"json\"\n",
    "    query_url <- glue(\"https://www.alphavantage.co/query?function={functions}&symbol={symbol}&outputsize={outputsize}&apikey={api_key}\")\n",
    "    response <- GET(query_url)\n",
    "    response_json_result <- content(response, as=\"parsed\")\n",
    "    results <- response_json_result$'Time Series (Daily)'\n",
    "    Stock_Prices <-c()\n",
    "    for (j in results){\n",
    "        price <- j$'5. adjusted close'\n",
    "        Stock_Prices <- c(Stock_Prices,price)\n",
    "    }\n",
    "    stock_table[stock_lists[i]]<- Stock_Prices\n",
    "}\n",
    "head(stock_table,n=12)"
   ]
  },
  {
   "cell_type": "markdown",
   "id": "1a03ba86-0a95-41c7-9464-0224591f5a5e",
   "metadata": {},
   "source": [
    "Sort the `Date` in the ascending order"
   ]
  },
  {
   "cell_type": "code",
   "execution_count": 21,
   "id": "788817f2-ff90-4686-b213-e7e0619d8912",
   "metadata": {},
   "outputs": [
    {
     "data": {
      "text/html": [
       "<table>\n",
       "<caption>A data.frame: 5512 × 5</caption>\n",
       "<thead>\n",
       "\t<tr><th scope=col>Date</th><th scope=col>Apple</th><th scope=col>Activision</th><th scope=col>Microsoft</th><th scope=col>IBM</th></tr>\n",
       "\t<tr><th scope=col>&lt;chr&gt;</th><th scope=col>&lt;chr&gt;</th><th scope=col>&lt;chr&gt;</th><th scope=col>&lt;chr&gt;</th><th scope=col>&lt;chr&gt;</th></tr>\n",
       "</thead>\n",
       "<tbody>\n",
       "\t<tr><td>1999-11-01</td><td>0.594976289312</td><td>1.04506805712</td><td>29.2744922277</td><td>59.358271344 </td></tr>\n",
       "\t<tr><td>1999-11-02</td><td>0.615135882727</td><td>1.05919059843</td><td>29.3347082451</td><td>58.1680383062</td></tr>\n",
       "\t<tr><td>1999-11-03</td><td>0.624717438533</td><td>1.07777288963</td><td>29.1572294571</td><td>57.8980885451</td></tr>\n",
       "\t<tr><td>1999-11-04</td><td>0.640967757179</td><td>1.08669238941</td><td>29.0779978553</td><td>56.1740912068</td></tr>\n",
       "\t<tr><td>1999-11-05</td><td>0.676917754562</td><td>1.14318255466</td><td>29.017781838 </td><td>55.3703771452</td></tr>\n",
       "\t<tr><td>1999-11-08</td><td>0.738699626398</td><td>1.18926663684</td><td>28.5043610584</td><td>57.7078966679</td></tr>\n",
       "\t<tr><td>1999-11-09</td><td>0.686959225047</td><td>1.15656180432</td><td>28.1652498027</td><td>57.5113187785</td></tr>\n",
       "\t<tr><td>1999-11-10</td><td>0.7009099703  </td><td>1.12906001335</td><td>27.6106285902</td><td>59.5876727357</td></tr>\n",
       "\t<tr><td>1999-11-11</td><td>0.707118818462</td><td>1.10081493072</td><td>28.4029446081</td><td>58.3590609267</td></tr>\n",
       "\t<tr><td>1999-11-12</td><td>0.694624469691</td><td>1.04506805712</td><td>28.266666253 </td><td>58.8935070636</td></tr>\n",
       "\t<tr><td>1999-11-15</td><td>0.685579481011</td><td>1.04952780701</td><td>27.5725974214</td><td>57.7816133764</td></tr>\n",
       "\t<tr><td>1999-11-16</td><td>0.698993659139</td><td>1.05473084854</td><td>27.6708446076</td><td>58.125624683 </td></tr>\n",
       "\t<tr><td>1999-11-17</td><td>0.691788329173</td><td>1.03614855734</td><td>26.9387446071</td><td>57.5911785461</td></tr>\n",
       "\t<tr><td>1999-11-18</td><td>0.686959225047</td><td>1.08223263952</td><td>26.9197290227</td><td>60.2019786401</td></tr>\n",
       "\t<tr><td>1999-11-19</td><td>0.708575214945</td><td>1.04060830723</td><td>27.2556710142</td><td>63.8509557128</td></tr>\n",
       "\t<tr><td>1999-11-22</td><td>0.694624469691</td><td>1.13351976323</td><td>28.4631606255</td><td>66.2651779175</td></tr>\n",
       "\t<tr><td>1999-11-23</td><td>0.711411355463</td><td>1.18926663684</td><td>28.4029446081</td><td>65.1532842303</td></tr>\n",
       "\t<tr><td>1999-11-24</td><td>0.725822015395</td><td>1.15656180432</td><td>29.0589822709</td><td>64.1949670193</td></tr>\n",
       "\t<tr><td>1999-11-26</td><td>0.728658155913</td><td>1.14318255466</td><td>28.8783342188</td><td>64.5021199716</td></tr>\n",
       "\t<tr><td>1999-11-29</td><td>0.724825533591</td><td>1.15656180432</td><td>28.5835926602</td><td>64.0045321889</td></tr>\n",
       "\t<tr><td>1999-11-30</td><td>0.750197493365</td><td>1.11642405533</td><td>28.8561493703</td><td>63.3103665169</td></tr>\n",
       "\t<tr><td>1999-12-01</td><td>0.78998011307 </td><td>1.16622459575</td><td>29.5343718816</td><td>63.5315166425</td></tr>\n",
       "\t<tr><td>1999-12-02</td><td>0.844633307386</td><td>1.16102155421</td><td>30.0477926612</td><td>64.6679825658</td></tr>\n",
       "\t<tr><td>1999-12-03</td><td>0.881503134126</td><td>1.15656180432</td><td>30.4629662545</td><td>68.7224015354</td></tr>\n",
       "\t<tr><td>1999-12-06</td><td>0.889168378771</td><td>1.16102155421</td><td>30.2474562977</td><td>71.259484921 </td></tr>\n",
       "\t<tr><td>1999-12-07</td><td>0.903042471577</td><td>1.07628630634</td><td>29.4741558642</td><td>71.6403545818</td></tr>\n",
       "\t<tr><td>1999-12-08</td><td>0.843636825582</td><td>1.07331313975</td><td>29.0779978553</td><td>72.6601023832</td></tr>\n",
       "\t<tr><td>1999-12-09</td><td>0.806766998842</td><td>1.10527468061</td><td>29.3949242625</td><td>69.6438603922</td></tr>\n",
       "\t<tr><td>1999-12-10</td><td>0.789520198391</td><td>1.16622459575</td><td>29.7498818385</td><td>66.9593435895</td></tr>\n",
       "\t<tr><td>1999-12-13</td><td>0.758859219813</td><td>1.22866109418</td><td>30.6214294581</td><td>67.3893577227</td></tr>\n",
       "\t<tr><td>⋮</td><td>⋮</td><td>⋮</td><td>⋮</td><td>⋮</td></tr>\n",
       "\t<tr><td>2021-08-16</td><td>151.12</td><td>83.85</td><td>294.033636582</td><td>143.59</td></tr>\n",
       "\t<tr><td>2021-08-17</td><td>150.19</td><td>83.37</td><td>292.516558756</td><td>142.42</td></tr>\n",
       "\t<tr><td>2021-08-18</td><td>146.36</td><td>82.83</td><td>290.73       </td><td>139.47</td></tr>\n",
       "\t<tr><td>2021-08-19</td><td>146.7 </td><td>83.17</td><td>296.77       </td><td>138.02</td></tr>\n",
       "\t<tr><td>2021-08-20</td><td>148.19</td><td>82.63</td><td>304.36       </td><td>139.11</td></tr>\n",
       "\t<tr><td>2021-08-23</td><td>149.71</td><td>82.22</td><td>304.65       </td><td>139.62</td></tr>\n",
       "\t<tr><td>2021-08-24</td><td>149.62</td><td>81.79</td><td>302.62       </td><td>139.84</td></tr>\n",
       "\t<tr><td>2021-08-25</td><td>148.36</td><td>80.81</td><td>302.01       </td><td>139.86</td></tr>\n",
       "\t<tr><td>2021-08-26</td><td>147.54</td><td>81.25</td><td>299.09       </td><td>138.78</td></tr>\n",
       "\t<tr><td>2021-08-27</td><td>148.6 </td><td>82.43</td><td>299.72       </td><td>139.41</td></tr>\n",
       "\t<tr><td>2021-08-30</td><td>153.12</td><td>81.12</td><td>303.59       </td><td>138.97</td></tr>\n",
       "\t<tr><td>2021-08-31</td><td>151.83</td><td>82.37</td><td>301.88       </td><td>140.34</td></tr>\n",
       "\t<tr><td>2021-09-01</td><td>152.51</td><td>82.3 </td><td>301.83       </td><td>139.3 </td></tr>\n",
       "\t<tr><td>2021-09-02</td><td>153.65</td><td>81.31</td><td>301.15       </td><td>140.01</td></tr>\n",
       "\t<tr><td>2021-09-03</td><td>154.3 </td><td>81.18</td><td>301.14       </td><td>139.58</td></tr>\n",
       "\t<tr><td>2021-09-07</td><td>156.69</td><td>78.47</td><td>300.18       </td><td>138.06</td></tr>\n",
       "\t<tr><td>2021-09-08</td><td>155.11</td><td>80.29</td><td>300.21       </td><td>138.67</td></tr>\n",
       "\t<tr><td>2021-09-09</td><td>154.07</td><td>78.05</td><td>297.25       </td><td>137.74</td></tr>\n",
       "\t<tr><td>2021-09-10</td><td>148.97</td><td>79.64</td><td>295.71       </td><td>137.02</td></tr>\n",
       "\t<tr><td>2021-09-13</td><td>149.55</td><td>78.53</td><td>296.99       </td><td>138.15</td></tr>\n",
       "\t<tr><td>2021-09-14</td><td>148.12</td><td>77.84</td><td>299.79       </td><td>136.22</td></tr>\n",
       "\t<tr><td>2021-09-15</td><td>149.03</td><td>78.25</td><td>304.82       </td><td>137.2 </td></tr>\n",
       "\t<tr><td>2021-09-16</td><td>148.79</td><td>79.28</td><td>305.22       </td><td>136.43</td></tr>\n",
       "\t<tr><td>2021-09-17</td><td>146.06</td><td>79.56</td><td>299.87       </td><td>135.23</td></tr>\n",
       "\t<tr><td>2021-09-20</td><td>142.94</td><td>76.18</td><td>294.3        </td><td>134.31</td></tr>\n",
       "\t<tr><td>2021-09-21</td><td>143.43</td><td>73.03</td><td>294.8        </td><td>132.97</td></tr>\n",
       "\t<tr><td>2021-09-22</td><td>145.85</td><td>72.81</td><td>298.58       </td><td>134.63</td></tr>\n",
       "\t<tr><td>2021-09-23</td><td>146.83</td><td>74.67</td><td>299.56       </td><td>136.73</td></tr>\n",
       "\t<tr><td>2021-09-24</td><td>146.92</td><td>75.26</td><td>299.35       </td><td>137.49</td></tr>\n",
       "\t<tr><td>2021-09-27</td><td>145.37</td><td>75.08</td><td>294.17       </td><td>138.56</td></tr>\n",
       "</tbody>\n",
       "</table>\n"
      ],
      "text/latex": [
       "A data.frame: 5512 × 5\n",
       "\\begin{tabular}{lllll}\n",
       " Date & Apple & Activision & Microsoft & IBM\\\\\n",
       " <chr> & <chr> & <chr> & <chr> & <chr>\\\\\n",
       "\\hline\n",
       "\t 1999-11-01 & 0.594976289312 & 1.04506805712 & 29.2744922277 & 59.358271344 \\\\\n",
       "\t 1999-11-02 & 0.615135882727 & 1.05919059843 & 29.3347082451 & 58.1680383062\\\\\n",
       "\t 1999-11-03 & 0.624717438533 & 1.07777288963 & 29.1572294571 & 57.8980885451\\\\\n",
       "\t 1999-11-04 & 0.640967757179 & 1.08669238941 & 29.0779978553 & 56.1740912068\\\\\n",
       "\t 1999-11-05 & 0.676917754562 & 1.14318255466 & 29.017781838  & 55.3703771452\\\\\n",
       "\t 1999-11-08 & 0.738699626398 & 1.18926663684 & 28.5043610584 & 57.7078966679\\\\\n",
       "\t 1999-11-09 & 0.686959225047 & 1.15656180432 & 28.1652498027 & 57.5113187785\\\\\n",
       "\t 1999-11-10 & 0.7009099703   & 1.12906001335 & 27.6106285902 & 59.5876727357\\\\\n",
       "\t 1999-11-11 & 0.707118818462 & 1.10081493072 & 28.4029446081 & 58.3590609267\\\\\n",
       "\t 1999-11-12 & 0.694624469691 & 1.04506805712 & 28.266666253  & 58.8935070636\\\\\n",
       "\t 1999-11-15 & 0.685579481011 & 1.04952780701 & 27.5725974214 & 57.7816133764\\\\\n",
       "\t 1999-11-16 & 0.698993659139 & 1.05473084854 & 27.6708446076 & 58.125624683 \\\\\n",
       "\t 1999-11-17 & 0.691788329173 & 1.03614855734 & 26.9387446071 & 57.5911785461\\\\\n",
       "\t 1999-11-18 & 0.686959225047 & 1.08223263952 & 26.9197290227 & 60.2019786401\\\\\n",
       "\t 1999-11-19 & 0.708575214945 & 1.04060830723 & 27.2556710142 & 63.8509557128\\\\\n",
       "\t 1999-11-22 & 0.694624469691 & 1.13351976323 & 28.4631606255 & 66.2651779175\\\\\n",
       "\t 1999-11-23 & 0.711411355463 & 1.18926663684 & 28.4029446081 & 65.1532842303\\\\\n",
       "\t 1999-11-24 & 0.725822015395 & 1.15656180432 & 29.0589822709 & 64.1949670193\\\\\n",
       "\t 1999-11-26 & 0.728658155913 & 1.14318255466 & 28.8783342188 & 64.5021199716\\\\\n",
       "\t 1999-11-29 & 0.724825533591 & 1.15656180432 & 28.5835926602 & 64.0045321889\\\\\n",
       "\t 1999-11-30 & 0.750197493365 & 1.11642405533 & 28.8561493703 & 63.3103665169\\\\\n",
       "\t 1999-12-01 & 0.78998011307  & 1.16622459575 & 29.5343718816 & 63.5315166425\\\\\n",
       "\t 1999-12-02 & 0.844633307386 & 1.16102155421 & 30.0477926612 & 64.6679825658\\\\\n",
       "\t 1999-12-03 & 0.881503134126 & 1.15656180432 & 30.4629662545 & 68.7224015354\\\\\n",
       "\t 1999-12-06 & 0.889168378771 & 1.16102155421 & 30.2474562977 & 71.259484921 \\\\\n",
       "\t 1999-12-07 & 0.903042471577 & 1.07628630634 & 29.4741558642 & 71.6403545818\\\\\n",
       "\t 1999-12-08 & 0.843636825582 & 1.07331313975 & 29.0779978553 & 72.6601023832\\\\\n",
       "\t 1999-12-09 & 0.806766998842 & 1.10527468061 & 29.3949242625 & 69.6438603922\\\\\n",
       "\t 1999-12-10 & 0.789520198391 & 1.16622459575 & 29.7498818385 & 66.9593435895\\\\\n",
       "\t 1999-12-13 & 0.758859219813 & 1.22866109418 & 30.6214294581 & 67.3893577227\\\\\n",
       "\t ⋮ & ⋮ & ⋮ & ⋮ & ⋮\\\\\n",
       "\t 2021-08-16 & 151.12 & 83.85 & 294.033636582 & 143.59\\\\\n",
       "\t 2021-08-17 & 150.19 & 83.37 & 292.516558756 & 142.42\\\\\n",
       "\t 2021-08-18 & 146.36 & 82.83 & 290.73        & 139.47\\\\\n",
       "\t 2021-08-19 & 146.7  & 83.17 & 296.77        & 138.02\\\\\n",
       "\t 2021-08-20 & 148.19 & 82.63 & 304.36        & 139.11\\\\\n",
       "\t 2021-08-23 & 149.71 & 82.22 & 304.65        & 139.62\\\\\n",
       "\t 2021-08-24 & 149.62 & 81.79 & 302.62        & 139.84\\\\\n",
       "\t 2021-08-25 & 148.36 & 80.81 & 302.01        & 139.86\\\\\n",
       "\t 2021-08-26 & 147.54 & 81.25 & 299.09        & 138.78\\\\\n",
       "\t 2021-08-27 & 148.6  & 82.43 & 299.72        & 139.41\\\\\n",
       "\t 2021-08-30 & 153.12 & 81.12 & 303.59        & 138.97\\\\\n",
       "\t 2021-08-31 & 151.83 & 82.37 & 301.88        & 140.34\\\\\n",
       "\t 2021-09-01 & 152.51 & 82.3  & 301.83        & 139.3 \\\\\n",
       "\t 2021-09-02 & 153.65 & 81.31 & 301.15        & 140.01\\\\\n",
       "\t 2021-09-03 & 154.3  & 81.18 & 301.14        & 139.58\\\\\n",
       "\t 2021-09-07 & 156.69 & 78.47 & 300.18        & 138.06\\\\\n",
       "\t 2021-09-08 & 155.11 & 80.29 & 300.21        & 138.67\\\\\n",
       "\t 2021-09-09 & 154.07 & 78.05 & 297.25        & 137.74\\\\\n",
       "\t 2021-09-10 & 148.97 & 79.64 & 295.71        & 137.02\\\\\n",
       "\t 2021-09-13 & 149.55 & 78.53 & 296.99        & 138.15\\\\\n",
       "\t 2021-09-14 & 148.12 & 77.84 & 299.79        & 136.22\\\\\n",
       "\t 2021-09-15 & 149.03 & 78.25 & 304.82        & 137.2 \\\\\n",
       "\t 2021-09-16 & 148.79 & 79.28 & 305.22        & 136.43\\\\\n",
       "\t 2021-09-17 & 146.06 & 79.56 & 299.87        & 135.23\\\\\n",
       "\t 2021-09-20 & 142.94 & 76.18 & 294.3         & 134.31\\\\\n",
       "\t 2021-09-21 & 143.43 & 73.03 & 294.8         & 132.97\\\\\n",
       "\t 2021-09-22 & 145.85 & 72.81 & 298.58        & 134.63\\\\\n",
       "\t 2021-09-23 & 146.83 & 74.67 & 299.56        & 136.73\\\\\n",
       "\t 2021-09-24 & 146.92 & 75.26 & 299.35        & 137.49\\\\\n",
       "\t 2021-09-27 & 145.37 & 75.08 & 294.17        & 138.56\\\\\n",
       "\\end{tabular}\n"
      ],
      "text/markdown": [
       "\n",
       "A data.frame: 5512 × 5\n",
       "\n",
       "| Date &lt;chr&gt; | Apple &lt;chr&gt; | Activision &lt;chr&gt; | Microsoft &lt;chr&gt; | IBM &lt;chr&gt; |\n",
       "|---|---|---|---|---|\n",
       "| 1999-11-01 | 0.594976289312 | 1.04506805712 | 29.2744922277 | 59.358271344  |\n",
       "| 1999-11-02 | 0.615135882727 | 1.05919059843 | 29.3347082451 | 58.1680383062 |\n",
       "| 1999-11-03 | 0.624717438533 | 1.07777288963 | 29.1572294571 | 57.8980885451 |\n",
       "| 1999-11-04 | 0.640967757179 | 1.08669238941 | 29.0779978553 | 56.1740912068 |\n",
       "| 1999-11-05 | 0.676917754562 | 1.14318255466 | 29.017781838  | 55.3703771452 |\n",
       "| 1999-11-08 | 0.738699626398 | 1.18926663684 | 28.5043610584 | 57.7078966679 |\n",
       "| 1999-11-09 | 0.686959225047 | 1.15656180432 | 28.1652498027 | 57.5113187785 |\n",
       "| 1999-11-10 | 0.7009099703   | 1.12906001335 | 27.6106285902 | 59.5876727357 |\n",
       "| 1999-11-11 | 0.707118818462 | 1.10081493072 | 28.4029446081 | 58.3590609267 |\n",
       "| 1999-11-12 | 0.694624469691 | 1.04506805712 | 28.266666253  | 58.8935070636 |\n",
       "| 1999-11-15 | 0.685579481011 | 1.04952780701 | 27.5725974214 | 57.7816133764 |\n",
       "| 1999-11-16 | 0.698993659139 | 1.05473084854 | 27.6708446076 | 58.125624683  |\n",
       "| 1999-11-17 | 0.691788329173 | 1.03614855734 | 26.9387446071 | 57.5911785461 |\n",
       "| 1999-11-18 | 0.686959225047 | 1.08223263952 | 26.9197290227 | 60.2019786401 |\n",
       "| 1999-11-19 | 0.708575214945 | 1.04060830723 | 27.2556710142 | 63.8509557128 |\n",
       "| 1999-11-22 | 0.694624469691 | 1.13351976323 | 28.4631606255 | 66.2651779175 |\n",
       "| 1999-11-23 | 0.711411355463 | 1.18926663684 | 28.4029446081 | 65.1532842303 |\n",
       "| 1999-11-24 | 0.725822015395 | 1.15656180432 | 29.0589822709 | 64.1949670193 |\n",
       "| 1999-11-26 | 0.728658155913 | 1.14318255466 | 28.8783342188 | 64.5021199716 |\n",
       "| 1999-11-29 | 0.724825533591 | 1.15656180432 | 28.5835926602 | 64.0045321889 |\n",
       "| 1999-11-30 | 0.750197493365 | 1.11642405533 | 28.8561493703 | 63.3103665169 |\n",
       "| 1999-12-01 | 0.78998011307  | 1.16622459575 | 29.5343718816 | 63.5315166425 |\n",
       "| 1999-12-02 | 0.844633307386 | 1.16102155421 | 30.0477926612 | 64.6679825658 |\n",
       "| 1999-12-03 | 0.881503134126 | 1.15656180432 | 30.4629662545 | 68.7224015354 |\n",
       "| 1999-12-06 | 0.889168378771 | 1.16102155421 | 30.2474562977 | 71.259484921  |\n",
       "| 1999-12-07 | 0.903042471577 | 1.07628630634 | 29.4741558642 | 71.6403545818 |\n",
       "| 1999-12-08 | 0.843636825582 | 1.07331313975 | 29.0779978553 | 72.6601023832 |\n",
       "| 1999-12-09 | 0.806766998842 | 1.10527468061 | 29.3949242625 | 69.6438603922 |\n",
       "| 1999-12-10 | 0.789520198391 | 1.16622459575 | 29.7498818385 | 66.9593435895 |\n",
       "| 1999-12-13 | 0.758859219813 | 1.22866109418 | 30.6214294581 | 67.3893577227 |\n",
       "| ⋮ | ⋮ | ⋮ | ⋮ | ⋮ |\n",
       "| 2021-08-16 | 151.12 | 83.85 | 294.033636582 | 143.59 |\n",
       "| 2021-08-17 | 150.19 | 83.37 | 292.516558756 | 142.42 |\n",
       "| 2021-08-18 | 146.36 | 82.83 | 290.73        | 139.47 |\n",
       "| 2021-08-19 | 146.7  | 83.17 | 296.77        | 138.02 |\n",
       "| 2021-08-20 | 148.19 | 82.63 | 304.36        | 139.11 |\n",
       "| 2021-08-23 | 149.71 | 82.22 | 304.65        | 139.62 |\n",
       "| 2021-08-24 | 149.62 | 81.79 | 302.62        | 139.84 |\n",
       "| 2021-08-25 | 148.36 | 80.81 | 302.01        | 139.86 |\n",
       "| 2021-08-26 | 147.54 | 81.25 | 299.09        | 138.78 |\n",
       "| 2021-08-27 | 148.6  | 82.43 | 299.72        | 139.41 |\n",
       "| 2021-08-30 | 153.12 | 81.12 | 303.59        | 138.97 |\n",
       "| 2021-08-31 | 151.83 | 82.37 | 301.88        | 140.34 |\n",
       "| 2021-09-01 | 152.51 | 82.3  | 301.83        | 139.3  |\n",
       "| 2021-09-02 | 153.65 | 81.31 | 301.15        | 140.01 |\n",
       "| 2021-09-03 | 154.3  | 81.18 | 301.14        | 139.58 |\n",
       "| 2021-09-07 | 156.69 | 78.47 | 300.18        | 138.06 |\n",
       "| 2021-09-08 | 155.11 | 80.29 | 300.21        | 138.67 |\n",
       "| 2021-09-09 | 154.07 | 78.05 | 297.25        | 137.74 |\n",
       "| 2021-09-10 | 148.97 | 79.64 | 295.71        | 137.02 |\n",
       "| 2021-09-13 | 149.55 | 78.53 | 296.99        | 138.15 |\n",
       "| 2021-09-14 | 148.12 | 77.84 | 299.79        | 136.22 |\n",
       "| 2021-09-15 | 149.03 | 78.25 | 304.82        | 137.2  |\n",
       "| 2021-09-16 | 148.79 | 79.28 | 305.22        | 136.43 |\n",
       "| 2021-09-17 | 146.06 | 79.56 | 299.87        | 135.23 |\n",
       "| 2021-09-20 | 142.94 | 76.18 | 294.3         | 134.31 |\n",
       "| 2021-09-21 | 143.43 | 73.03 | 294.8         | 132.97 |\n",
       "| 2021-09-22 | 145.85 | 72.81 | 298.58        | 134.63 |\n",
       "| 2021-09-23 | 146.83 | 74.67 | 299.56        | 136.73 |\n",
       "| 2021-09-24 | 146.92 | 75.26 | 299.35        | 137.49 |\n",
       "| 2021-09-27 | 145.37 | 75.08 | 294.17        | 138.56 |\n",
       "\n"
      ],
      "text/plain": [
       "     Date       Apple          Activision    Microsoft     IBM          \n",
       "1    1999-11-01 0.594976289312 1.04506805712 29.2744922277 59.358271344 \n",
       "2    1999-11-02 0.615135882727 1.05919059843 29.3347082451 58.1680383062\n",
       "3    1999-11-03 0.624717438533 1.07777288963 29.1572294571 57.8980885451\n",
       "4    1999-11-04 0.640967757179 1.08669238941 29.0779978553 56.1740912068\n",
       "5    1999-11-05 0.676917754562 1.14318255466 29.017781838  55.3703771452\n",
       "6    1999-11-08 0.738699626398 1.18926663684 28.5043610584 57.7078966679\n",
       "7    1999-11-09 0.686959225047 1.15656180432 28.1652498027 57.5113187785\n",
       "8    1999-11-10 0.7009099703   1.12906001335 27.6106285902 59.5876727357\n",
       "9    1999-11-11 0.707118818462 1.10081493072 28.4029446081 58.3590609267\n",
       "10   1999-11-12 0.694624469691 1.04506805712 28.266666253  58.8935070636\n",
       "11   1999-11-15 0.685579481011 1.04952780701 27.5725974214 57.7816133764\n",
       "12   1999-11-16 0.698993659139 1.05473084854 27.6708446076 58.125624683 \n",
       "13   1999-11-17 0.691788329173 1.03614855734 26.9387446071 57.5911785461\n",
       "14   1999-11-18 0.686959225047 1.08223263952 26.9197290227 60.2019786401\n",
       "15   1999-11-19 0.708575214945 1.04060830723 27.2556710142 63.8509557128\n",
       "16   1999-11-22 0.694624469691 1.13351976323 28.4631606255 66.2651779175\n",
       "17   1999-11-23 0.711411355463 1.18926663684 28.4029446081 65.1532842303\n",
       "18   1999-11-24 0.725822015395 1.15656180432 29.0589822709 64.1949670193\n",
       "19   1999-11-26 0.728658155913 1.14318255466 28.8783342188 64.5021199716\n",
       "20   1999-11-29 0.724825533591 1.15656180432 28.5835926602 64.0045321889\n",
       "21   1999-11-30 0.750197493365 1.11642405533 28.8561493703 63.3103665169\n",
       "22   1999-12-01 0.78998011307  1.16622459575 29.5343718816 63.5315166425\n",
       "23   1999-12-02 0.844633307386 1.16102155421 30.0477926612 64.6679825658\n",
       "24   1999-12-03 0.881503134126 1.15656180432 30.4629662545 68.7224015354\n",
       "25   1999-12-06 0.889168378771 1.16102155421 30.2474562977 71.259484921 \n",
       "26   1999-12-07 0.903042471577 1.07628630634 29.4741558642 71.6403545818\n",
       "27   1999-12-08 0.843636825582 1.07331313975 29.0779978553 72.6601023832\n",
       "28   1999-12-09 0.806766998842 1.10527468061 29.3949242625 69.6438603922\n",
       "29   1999-12-10 0.789520198391 1.16622459575 29.7498818385 66.9593435895\n",
       "30   1999-12-13 0.758859219813 1.22866109418 30.6214294581 67.3893577227\n",
       "⋮    ⋮          ⋮              ⋮             ⋮             ⋮            \n",
       "5483 2021-08-16 151.12         83.85         294.033636582 143.59       \n",
       "5484 2021-08-17 150.19         83.37         292.516558756 142.42       \n",
       "5485 2021-08-18 146.36         82.83         290.73        139.47       \n",
       "5486 2021-08-19 146.7          83.17         296.77        138.02       \n",
       "5487 2021-08-20 148.19         82.63         304.36        139.11       \n",
       "5488 2021-08-23 149.71         82.22         304.65        139.62       \n",
       "5489 2021-08-24 149.62         81.79         302.62        139.84       \n",
       "5490 2021-08-25 148.36         80.81         302.01        139.86       \n",
       "5491 2021-08-26 147.54         81.25         299.09        138.78       \n",
       "5492 2021-08-27 148.6          82.43         299.72        139.41       \n",
       "5493 2021-08-30 153.12         81.12         303.59        138.97       \n",
       "5494 2021-08-31 151.83         82.37         301.88        140.34       \n",
       "5495 2021-09-01 152.51         82.3          301.83        139.3        \n",
       "5496 2021-09-02 153.65         81.31         301.15        140.01       \n",
       "5497 2021-09-03 154.3          81.18         301.14        139.58       \n",
       "5498 2021-09-07 156.69         78.47         300.18        138.06       \n",
       "5499 2021-09-08 155.11         80.29         300.21        138.67       \n",
       "5500 2021-09-09 154.07         78.05         297.25        137.74       \n",
       "5501 2021-09-10 148.97         79.64         295.71        137.02       \n",
       "5502 2021-09-13 149.55         78.53         296.99        138.15       \n",
       "5503 2021-09-14 148.12         77.84         299.79        136.22       \n",
       "5504 2021-09-15 149.03         78.25         304.82        137.2        \n",
       "5505 2021-09-16 148.79         79.28         305.22        136.43       \n",
       "5506 2021-09-17 146.06         79.56         299.87        135.23       \n",
       "5507 2021-09-20 142.94         76.18         294.3         134.31       \n",
       "5508 2021-09-21 143.43         73.03         294.8         132.97       \n",
       "5509 2021-09-22 145.85         72.81         298.58        134.63       \n",
       "5510 2021-09-23 146.83         74.67         299.56        136.73       \n",
       "5511 2021-09-24 146.92         75.26         299.35        137.49       \n",
       "5512 2021-09-27 145.37         75.08         294.17        138.56       "
      ]
     },
     "metadata": {},
     "output_type": "display_data"
    }
   ],
   "source": [
    "stock_table_arranged <- stock_table %>%\n",
    "                        arrange(Date)\n",
    "stock_table_arranged"
   ]
  },
  {
   "cell_type": "markdown",
   "id": "e53345dd-24ad-4c8f-8bd4-00c01bcea4cd",
   "metadata": {},
   "source": [
    "Convert to the correct data type for all columns"
   ]
  },
  {
   "cell_type": "code",
   "execution_count": 22,
   "id": "6175461f-150d-45a5-955c-865d04b48506",
   "metadata": {},
   "outputs": [
    {
     "data": {
      "text/html": [
       "<table>\n",
       "<caption>A data.frame: 12 × 5</caption>\n",
       "<thead>\n",
       "\t<tr><th></th><th scope=col>Date</th><th scope=col>Apple</th><th scope=col>Activision</th><th scope=col>Microsoft</th><th scope=col>IBM</th></tr>\n",
       "\t<tr><th></th><th scope=col>&lt;date&gt;</th><th scope=col>&lt;dbl&gt;</th><th scope=col>&lt;dbl&gt;</th><th scope=col>&lt;dbl&gt;</th><th scope=col>&lt;dbl&gt;</th></tr>\n",
       "</thead>\n",
       "<tbody>\n",
       "\t<tr><th scope=row>1</th><td>2021-09-27</td><td>145.37</td><td>75.08</td><td>294.17</td><td>138.56</td></tr>\n",
       "\t<tr><th scope=row>2</th><td>2021-09-24</td><td>146.92</td><td>75.26</td><td>299.35</td><td>137.49</td></tr>\n",
       "\t<tr><th scope=row>3</th><td>2021-09-23</td><td>146.83</td><td>74.67</td><td>299.56</td><td>136.73</td></tr>\n",
       "\t<tr><th scope=row>4</th><td>2021-09-22</td><td>145.85</td><td>72.81</td><td>298.58</td><td>134.63</td></tr>\n",
       "\t<tr><th scope=row>5</th><td>2021-09-21</td><td>143.43</td><td>73.03</td><td>294.80</td><td>132.97</td></tr>\n",
       "\t<tr><th scope=row>6</th><td>2021-09-20</td><td>142.94</td><td>76.18</td><td>294.30</td><td>134.31</td></tr>\n",
       "\t<tr><th scope=row>7</th><td>2021-09-17</td><td>146.06</td><td>79.56</td><td>299.87</td><td>135.23</td></tr>\n",
       "\t<tr><th scope=row>8</th><td>2021-09-16</td><td>148.79</td><td>79.28</td><td>305.22</td><td>136.43</td></tr>\n",
       "\t<tr><th scope=row>9</th><td>2021-09-15</td><td>149.03</td><td>78.25</td><td>304.82</td><td>137.20</td></tr>\n",
       "\t<tr><th scope=row>10</th><td>2021-09-14</td><td>148.12</td><td>77.84</td><td>299.79</td><td>136.22</td></tr>\n",
       "\t<tr><th scope=row>11</th><td>2021-09-13</td><td>149.55</td><td>78.53</td><td>296.99</td><td>138.15</td></tr>\n",
       "\t<tr><th scope=row>12</th><td>2021-09-10</td><td>148.97</td><td>79.64</td><td>295.71</td><td>137.02</td></tr>\n",
       "</tbody>\n",
       "</table>\n"
      ],
      "text/latex": [
       "A data.frame: 12 × 5\n",
       "\\begin{tabular}{r|lllll}\n",
       "  & Date & Apple & Activision & Microsoft & IBM\\\\\n",
       "  & <date> & <dbl> & <dbl> & <dbl> & <dbl>\\\\\n",
       "\\hline\n",
       "\t1 & 2021-09-27 & 145.37 & 75.08 & 294.17 & 138.56\\\\\n",
       "\t2 & 2021-09-24 & 146.92 & 75.26 & 299.35 & 137.49\\\\\n",
       "\t3 & 2021-09-23 & 146.83 & 74.67 & 299.56 & 136.73\\\\\n",
       "\t4 & 2021-09-22 & 145.85 & 72.81 & 298.58 & 134.63\\\\\n",
       "\t5 & 2021-09-21 & 143.43 & 73.03 & 294.80 & 132.97\\\\\n",
       "\t6 & 2021-09-20 & 142.94 & 76.18 & 294.30 & 134.31\\\\\n",
       "\t7 & 2021-09-17 & 146.06 & 79.56 & 299.87 & 135.23\\\\\n",
       "\t8 & 2021-09-16 & 148.79 & 79.28 & 305.22 & 136.43\\\\\n",
       "\t9 & 2021-09-15 & 149.03 & 78.25 & 304.82 & 137.20\\\\\n",
       "\t10 & 2021-09-14 & 148.12 & 77.84 & 299.79 & 136.22\\\\\n",
       "\t11 & 2021-09-13 & 149.55 & 78.53 & 296.99 & 138.15\\\\\n",
       "\t12 & 2021-09-10 & 148.97 & 79.64 & 295.71 & 137.02\\\\\n",
       "\\end{tabular}\n"
      ],
      "text/markdown": [
       "\n",
       "A data.frame: 12 × 5\n",
       "\n",
       "| <!--/--> | Date &lt;date&gt; | Apple &lt;dbl&gt; | Activision &lt;dbl&gt; | Microsoft &lt;dbl&gt; | IBM &lt;dbl&gt; |\n",
       "|---|---|---|---|---|---|\n",
       "| 1 | 2021-09-27 | 145.37 | 75.08 | 294.17 | 138.56 |\n",
       "| 2 | 2021-09-24 | 146.92 | 75.26 | 299.35 | 137.49 |\n",
       "| 3 | 2021-09-23 | 146.83 | 74.67 | 299.56 | 136.73 |\n",
       "| 4 | 2021-09-22 | 145.85 | 72.81 | 298.58 | 134.63 |\n",
       "| 5 | 2021-09-21 | 143.43 | 73.03 | 294.80 | 132.97 |\n",
       "| 6 | 2021-09-20 | 142.94 | 76.18 | 294.30 | 134.31 |\n",
       "| 7 | 2021-09-17 | 146.06 | 79.56 | 299.87 | 135.23 |\n",
       "| 8 | 2021-09-16 | 148.79 | 79.28 | 305.22 | 136.43 |\n",
       "| 9 | 2021-09-15 | 149.03 | 78.25 | 304.82 | 137.20 |\n",
       "| 10 | 2021-09-14 | 148.12 | 77.84 | 299.79 | 136.22 |\n",
       "| 11 | 2021-09-13 | 149.55 | 78.53 | 296.99 | 138.15 |\n",
       "| 12 | 2021-09-10 | 148.97 | 79.64 | 295.71 | 137.02 |\n",
       "\n"
      ],
      "text/plain": [
       "   Date       Apple  Activision Microsoft IBM   \n",
       "1  2021-09-27 145.37 75.08      294.17    138.56\n",
       "2  2021-09-24 146.92 75.26      299.35    137.49\n",
       "3  2021-09-23 146.83 74.67      299.56    136.73\n",
       "4  2021-09-22 145.85 72.81      298.58    134.63\n",
       "5  2021-09-21 143.43 73.03      294.80    132.97\n",
       "6  2021-09-20 142.94 76.18      294.30    134.31\n",
       "7  2021-09-17 146.06 79.56      299.87    135.23\n",
       "8  2021-09-16 148.79 79.28      305.22    136.43\n",
       "9  2021-09-15 149.03 78.25      304.82    137.20\n",
       "10 2021-09-14 148.12 77.84      299.79    136.22\n",
       "11 2021-09-13 149.55 78.53      296.99    138.15\n",
       "12 2021-09-10 148.97 79.64      295.71    137.02"
      ]
     },
     "metadata": {},
     "output_type": "display_data"
    }
   ],
   "source": [
    "stock_table$Date <- as.Date(stock_table$Date)\n",
    "stock_table$Apple <- as.numeric(stock_table$Apple)\n",
    "stock_table$Activision <- as.numeric(stock_table$Activision)\n",
    "stock_table$Microsoft <- as.numeric(stock_table$Microsoft)\n",
    "stock_table$IBM <- as.numeric(stock_table$IBM)\n",
    "head(stock_table,n=12)"
   ]
  },
  {
   "cell_type": "code",
   "execution_count": 23,
   "id": "cc41bcd6-e449-4dd9-bb69-7b3f6534cab3",
   "metadata": {},
   "outputs": [
    {
     "data": {
      "text/html": [
       "<table>\n",
       "<caption>A data.frame: 9 × 5</caption>\n",
       "<thead>\n",
       "\t<tr><th></th><th scope=col>Date</th><th scope=col>Apple</th><th scope=col>Activision</th><th scope=col>Microsoft</th><th scope=col>IBM</th></tr>\n",
       "\t<tr><th></th><th scope=col>&lt;date&gt;</th><th scope=col>&lt;dbl&gt;</th><th scope=col>&lt;dbl&gt;</th><th scope=col>&lt;dbl&gt;</th><th scope=col>&lt;dbl&gt;</th></tr>\n",
       "</thead>\n",
       "<tbody>\n",
       "\t<tr><th scope=row>1</th><td>1999-11-01</td><td>0.5949763</td><td>1.045068</td><td>29.27449</td><td>59.35827</td></tr>\n",
       "\t<tr><th scope=row>2</th><td>1999-11-02</td><td>0.6151359</td><td>1.059191</td><td>29.33471</td><td>58.16804</td></tr>\n",
       "\t<tr><th scope=row>3</th><td>1999-11-03</td><td>0.6247174</td><td>1.077773</td><td>29.15723</td><td>57.89809</td></tr>\n",
       "\t<tr><th scope=row>4</th><td>1999-11-04</td><td>0.6409678</td><td>1.086692</td><td>29.07800</td><td>56.17409</td></tr>\n",
       "\t<tr><th scope=row>5</th><td>1999-11-05</td><td>0.6769178</td><td>1.143183</td><td>29.01778</td><td>55.37038</td></tr>\n",
       "\t<tr><th scope=row>6</th><td>1999-11-08</td><td>0.7386996</td><td>1.189267</td><td>28.50436</td><td>57.70790</td></tr>\n",
       "\t<tr><th scope=row>7</th><td>1999-11-09</td><td>0.6869592</td><td>1.156562</td><td>28.16525</td><td>57.51132</td></tr>\n",
       "\t<tr><th scope=row>8</th><td>1999-11-10</td><td>0.7009100</td><td>1.129060</td><td>27.61063</td><td>59.58767</td></tr>\n",
       "\t<tr><th scope=row>9</th><td>1999-11-11</td><td>0.7071188</td><td>1.100815</td><td>28.40294</td><td>58.35906</td></tr>\n",
       "</tbody>\n",
       "</table>\n"
      ],
      "text/latex": [
       "A data.frame: 9 × 5\n",
       "\\begin{tabular}{r|lllll}\n",
       "  & Date & Apple & Activision & Microsoft & IBM\\\\\n",
       "  & <date> & <dbl> & <dbl> & <dbl> & <dbl>\\\\\n",
       "\\hline\n",
       "\t1 & 1999-11-01 & 0.5949763 & 1.045068 & 29.27449 & 59.35827\\\\\n",
       "\t2 & 1999-11-02 & 0.6151359 & 1.059191 & 29.33471 & 58.16804\\\\\n",
       "\t3 & 1999-11-03 & 0.6247174 & 1.077773 & 29.15723 & 57.89809\\\\\n",
       "\t4 & 1999-11-04 & 0.6409678 & 1.086692 & 29.07800 & 56.17409\\\\\n",
       "\t5 & 1999-11-05 & 0.6769178 & 1.143183 & 29.01778 & 55.37038\\\\\n",
       "\t6 & 1999-11-08 & 0.7386996 & 1.189267 & 28.50436 & 57.70790\\\\\n",
       "\t7 & 1999-11-09 & 0.6869592 & 1.156562 & 28.16525 & 57.51132\\\\\n",
       "\t8 & 1999-11-10 & 0.7009100 & 1.129060 & 27.61063 & 59.58767\\\\\n",
       "\t9 & 1999-11-11 & 0.7071188 & 1.100815 & 28.40294 & 58.35906\\\\\n",
       "\\end{tabular}\n"
      ],
      "text/markdown": [
       "\n",
       "A data.frame: 9 × 5\n",
       "\n",
       "| <!--/--> | Date &lt;date&gt; | Apple &lt;dbl&gt; | Activision &lt;dbl&gt; | Microsoft &lt;dbl&gt; | IBM &lt;dbl&gt; |\n",
       "|---|---|---|---|---|---|\n",
       "| 1 | 1999-11-01 | 0.5949763 | 1.045068 | 29.27449 | 59.35827 |\n",
       "| 2 | 1999-11-02 | 0.6151359 | 1.059191 | 29.33471 | 58.16804 |\n",
       "| 3 | 1999-11-03 | 0.6247174 | 1.077773 | 29.15723 | 57.89809 |\n",
       "| 4 | 1999-11-04 | 0.6409678 | 1.086692 | 29.07800 | 56.17409 |\n",
       "| 5 | 1999-11-05 | 0.6769178 | 1.143183 | 29.01778 | 55.37038 |\n",
       "| 6 | 1999-11-08 | 0.7386996 | 1.189267 | 28.50436 | 57.70790 |\n",
       "| 7 | 1999-11-09 | 0.6869592 | 1.156562 | 28.16525 | 57.51132 |\n",
       "| 8 | 1999-11-10 | 0.7009100 | 1.129060 | 27.61063 | 59.58767 |\n",
       "| 9 | 1999-11-11 | 0.7071188 | 1.100815 | 28.40294 | 58.35906 |\n",
       "\n"
      ],
      "text/plain": [
       "  Date       Apple     Activision Microsoft IBM     \n",
       "1 1999-11-01 0.5949763 1.045068   29.27449  59.35827\n",
       "2 1999-11-02 0.6151359 1.059191   29.33471  58.16804\n",
       "3 1999-11-03 0.6247174 1.077773   29.15723  57.89809\n",
       "4 1999-11-04 0.6409678 1.086692   29.07800  56.17409\n",
       "5 1999-11-05 0.6769178 1.143183   29.01778  55.37038\n",
       "6 1999-11-08 0.7386996 1.189267   28.50436  57.70790\n",
       "7 1999-11-09 0.6869592 1.156562   28.16525  57.51132\n",
       "8 1999-11-10 0.7009100 1.129060   27.61063  59.58767\n",
       "9 1999-11-11 0.7071188 1.100815   28.40294  58.35906"
      ]
     },
     "metadata": {},
     "output_type": "display_data"
    }
   ],
   "source": [
    "stock_table_arranged$Date <- as.Date(stock_table_arranged$Date)\n",
    "stock_table_arranged$Apple <- as.numeric(stock_table_arranged$Apple)\n",
    "stock_table_arranged$Activision <- as.numeric(stock_table_arranged$Activision)\n",
    "stock_table_arranged$Microsoft <- as.numeric(stock_table_arranged$Microsoft)\n",
    "stock_table_arranged$IBM <- as.numeric(stock_table_arranged$IBM)\n",
    "head(stock_table_arranged,n=9)"
   ]
  },
  {
   "cell_type": "markdown",
   "id": "cfb5d02d-8ad0-45e7-9c52-e2d8fe1593fc",
   "metadata": {},
   "source": [
    "Save the resulting `DataFrames` into **csv** files"
   ]
  },
  {
   "cell_type": "code",
   "execution_count": 24,
   "id": "532cd076-2cf8-418d-8f46-23c4ddc8bc79",
   "metadata": {},
   "outputs": [],
   "source": [
    "write.csv(stock_table, \"Stock Price Table.csv\")"
   ]
  },
  {
   "cell_type": "code",
   "execution_count": 25,
   "id": "53b5d76d-eb34-47a6-8165-ff00a8b0a0a0",
   "metadata": {},
   "outputs": [],
   "source": [
    "write.csv(stock_table_arranged, \"Arranged Stock Price Table.csv\")"
   ]
  },
  {
   "cell_type": "markdown",
   "id": "3e09946e-b7bb-4c1a-99b0-c4d60afa704f",
   "metadata": {},
   "source": [
    "<a id=\"Plotting_price_changes\"></a>\n",
    "\n",
    "## Part 2: Plotting the price change of stocks and computing their returns"
   ]
  },
  {
   "cell_type": "markdown",
   "id": "193a7a4d-8407-4970-a6f4-bbca06eb945f",
   "metadata": {},
   "source": [
    "Plot the change of stock prices of Apple over time"
   ]
  },
  {
   "cell_type": "code",
   "execution_count": 26,
   "id": "5503e107-8bea-47f4-8edd-5745a127d8d2",
   "metadata": {},
   "outputs": [
    {
     "data": {},
     "metadata": {},
     "output_type": "display_data"
    },
    {
     "data": {
      "image/png": "[encoded data removed]",
      "text/plain": [
       "plot without title"
      ]
     },
     "metadata": {},
     "output_type": "display_data",
     "source": "R display func"
    }
   ],
   "source": [
    "ggplot(stock_table,aes(Date,Apple))+\n",
    "geom_line(color=\"red\")+\n",
    "labs(x=\"Date\",y=\"Price of Apple\",title=\"Price of Apple versus Time\")"
   ]
  },
  {
   "cell_type": "markdown",
   "id": "84e37323-2ef1-430c-8739-a8a6508a9f6a",
   "metadata": {},
   "source": [
    "Plot the price changes of all stocks in 2 ways"
   ]
  },
  {
   "cell_type": "code",
   "execution_count": 27,
   "id": "31ac5c0b-c210-457e-947a-fe645d1e1f32",
   "metadata": {},
   "outputs": [
    {
     "data": {},
     "metadata": {},
     "output_type": "display_data"
    },
    {
     "data": {
      "image/png": "[encoded data removed]",
      "text/plain": [
       "plot without title"
      ]
     },
     "metadata": {},
     "output_type": "display_data",
     "source": "R display func"
    }
   ],
   "source": [
    "ggplot(data=stock_table_arranged,aes(x=Date))+\n",
    "geom_line(aes(y=Apple,color=\"Apple\"))+\n",
    "geom_line(aes(y=Activision,color=\"Activision\"))+\n",
    "geom_line(aes(y=Microsoft,color=\"Microsoft\"))+\n",
    "geom_line(aes(y=IBM,color=\"IBM\"))+\n",
    "labs(x=\"Date\",y=\"Price of All Stocks\",title=\"Price of All Stocks versus Time\")+\n",
    "theme(legend.position = \"bottom\")"
   ]
  },
  {
   "cell_type": "code",
   "execution_count": 28,
   "id": "92fe5517-ad05-45af-adde-7f6887952c64",
   "metadata": {},
   "outputs": [
    {
     "data": {},
     "metadata": {},
     "output_type": "display_data"
    },
    {
     "data": {
      "image/png": "[encoded data removed]",
      "text/plain": [
       "plot without title"
      ]
     },
     "metadata": {},
     "output_type": "display_data",
     "source": "R display func"
    }
   ],
   "source": [
    "ggplot(data=stock_table_arranged,aes(x=Date))+\n",
    "geom_line(aes(y=Apple),color=\"red\")+\n",
    "geom_line(aes(y=Activision),color=\"yellow\")+\n",
    "geom_line(aes(y=Microsoft),color=\"blue\")+\n",
    "geom_line(aes(y=IBM),color=\"green\")+\n",
    "labs(x=\"Date\",y=\"Price of All Stocks\",title=\"Price of All Stocks versus Time\")"
   ]
  },
  {
   "cell_type": "markdown",
   "id": "28dea189-b18a-47f0-b566-77f0241a0911",
   "metadata": {},
   "source": [
    "Create an empty `DataFrame` called `return_table` and compute the return"
   ]
  },
  {
   "cell_type": "code",
   "execution_count": 29,
   "id": "89186352-ebd4-48c3-a88e-b8bcfb1618d9",
   "metadata": {},
   "outputs": [
    {
     "data": {
      "text/html": [
       "<table>\n",
       "<caption>A data.frame: 5512 × 5</caption>\n",
       "<thead>\n",
       "\t<tr><th scope=col>Date</th><th scope=col>Apple</th><th scope=col>Activision</th><th scope=col>Microsoft</th><th scope=col>IBM</th></tr>\n",
       "\t<tr><th scope=col>&lt;date&gt;</th><th scope=col>&lt;dbl&gt;</th><th scope=col>&lt;dbl&gt;</th><th scope=col>&lt;dbl&gt;</th><th scope=col>&lt;dbl&gt;</th></tr>\n",
       "</thead>\n",
       "<tbody>\n",
       "\t<tr><td>1999-11-01</td><td>0.5949763</td><td>1.045068</td><td>29.27449</td><td>59.35827</td></tr>\n",
       "\t<tr><td>1999-11-02</td><td>0.6151359</td><td>1.059191</td><td>29.33471</td><td>58.16804</td></tr>\n",
       "\t<tr><td>1999-11-03</td><td>0.6247174</td><td>1.077773</td><td>29.15723</td><td>57.89809</td></tr>\n",
       "\t<tr><td>1999-11-04</td><td>0.6409678</td><td>1.086692</td><td>29.07800</td><td>56.17409</td></tr>\n",
       "\t<tr><td>1999-11-05</td><td>0.6769178</td><td>1.143183</td><td>29.01778</td><td>55.37038</td></tr>\n",
       "\t<tr><td>1999-11-08</td><td>0.7386996</td><td>1.189267</td><td>28.50436</td><td>57.70790</td></tr>\n",
       "\t<tr><td>1999-11-09</td><td>0.6869592</td><td>1.156562</td><td>28.16525</td><td>57.51132</td></tr>\n",
       "\t<tr><td>1999-11-10</td><td>0.7009100</td><td>1.129060</td><td>27.61063</td><td>59.58767</td></tr>\n",
       "\t<tr><td>1999-11-11</td><td>0.7071188</td><td>1.100815</td><td>28.40294</td><td>58.35906</td></tr>\n",
       "\t<tr><td>1999-11-12</td><td>0.6946245</td><td>1.045068</td><td>28.26667</td><td>58.89351</td></tr>\n",
       "\t<tr><td>1999-11-15</td><td>0.6855795</td><td>1.049528</td><td>27.57260</td><td>57.78161</td></tr>\n",
       "\t<tr><td>1999-11-16</td><td>0.6989937</td><td>1.054731</td><td>27.67084</td><td>58.12562</td></tr>\n",
       "\t<tr><td>1999-11-17</td><td>0.6917883</td><td>1.036149</td><td>26.93874</td><td>57.59118</td></tr>\n",
       "\t<tr><td>1999-11-18</td><td>0.6869592</td><td>1.082233</td><td>26.91973</td><td>60.20198</td></tr>\n",
       "\t<tr><td>1999-11-19</td><td>0.7085752</td><td>1.040608</td><td>27.25567</td><td>63.85096</td></tr>\n",
       "\t<tr><td>1999-11-22</td><td>0.6946245</td><td>1.133520</td><td>28.46316</td><td>66.26518</td></tr>\n",
       "\t<tr><td>1999-11-23</td><td>0.7114114</td><td>1.189267</td><td>28.40294</td><td>65.15328</td></tr>\n",
       "\t<tr><td>1999-11-24</td><td>0.7258220</td><td>1.156562</td><td>29.05898</td><td>64.19497</td></tr>\n",
       "\t<tr><td>1999-11-26</td><td>0.7286582</td><td>1.143183</td><td>28.87833</td><td>64.50212</td></tr>\n",
       "\t<tr><td>1999-11-29</td><td>0.7248255</td><td>1.156562</td><td>28.58359</td><td>64.00453</td></tr>\n",
       "\t<tr><td>1999-11-30</td><td>0.7501975</td><td>1.116424</td><td>28.85615</td><td>63.31037</td></tr>\n",
       "\t<tr><td>1999-12-01</td><td>0.7899801</td><td>1.166225</td><td>29.53437</td><td>63.53152</td></tr>\n",
       "\t<tr><td>1999-12-02</td><td>0.8446333</td><td>1.161022</td><td>30.04779</td><td>64.66798</td></tr>\n",
       "\t<tr><td>1999-12-03</td><td>0.8815031</td><td>1.156562</td><td>30.46297</td><td>68.72240</td></tr>\n",
       "\t<tr><td>1999-12-06</td><td>0.8891684</td><td>1.161022</td><td>30.24746</td><td>71.25948</td></tr>\n",
       "\t<tr><td>1999-12-07</td><td>0.9030425</td><td>1.076286</td><td>29.47416</td><td>71.64035</td></tr>\n",
       "\t<tr><td>1999-12-08</td><td>0.8436368</td><td>1.073313</td><td>29.07800</td><td>72.66010</td></tr>\n",
       "\t<tr><td>1999-12-09</td><td>0.8067670</td><td>1.105275</td><td>29.39492</td><td>69.64386</td></tr>\n",
       "\t<tr><td>1999-12-10</td><td>0.7895202</td><td>1.166225</td><td>29.74988</td><td>66.95934</td></tr>\n",
       "\t<tr><td>1999-12-13</td><td>0.7588592</td><td>1.228661</td><td>30.62143</td><td>67.38936</td></tr>\n",
       "\t<tr><td>⋮</td><td>⋮</td><td>⋮</td><td>⋮</td><td>⋮</td></tr>\n",
       "\t<tr><td>2021-08-16</td><td>151.12</td><td>83.85</td><td>294.0336</td><td>143.59</td></tr>\n",
       "\t<tr><td>2021-08-17</td><td>150.19</td><td>83.37</td><td>292.5166</td><td>142.42</td></tr>\n",
       "\t<tr><td>2021-08-18</td><td>146.36</td><td>82.83</td><td>290.7300</td><td>139.47</td></tr>\n",
       "\t<tr><td>2021-08-19</td><td>146.70</td><td>83.17</td><td>296.7700</td><td>138.02</td></tr>\n",
       "\t<tr><td>2021-08-20</td><td>148.19</td><td>82.63</td><td>304.3600</td><td>139.11</td></tr>\n",
       "\t<tr><td>2021-08-23</td><td>149.71</td><td>82.22</td><td>304.6500</td><td>139.62</td></tr>\n",
       "\t<tr><td>2021-08-24</td><td>149.62</td><td>81.79</td><td>302.6200</td><td>139.84</td></tr>\n",
       "\t<tr><td>2021-08-25</td><td>148.36</td><td>80.81</td><td>302.0100</td><td>139.86</td></tr>\n",
       "\t<tr><td>2021-08-26</td><td>147.54</td><td>81.25</td><td>299.0900</td><td>138.78</td></tr>\n",
       "\t<tr><td>2021-08-27</td><td>148.60</td><td>82.43</td><td>299.7200</td><td>139.41</td></tr>\n",
       "\t<tr><td>2021-08-30</td><td>153.12</td><td>81.12</td><td>303.5900</td><td>138.97</td></tr>\n",
       "\t<tr><td>2021-08-31</td><td>151.83</td><td>82.37</td><td>301.8800</td><td>140.34</td></tr>\n",
       "\t<tr><td>2021-09-01</td><td>152.51</td><td>82.30</td><td>301.8300</td><td>139.30</td></tr>\n",
       "\t<tr><td>2021-09-02</td><td>153.65</td><td>81.31</td><td>301.1500</td><td>140.01</td></tr>\n",
       "\t<tr><td>2021-09-03</td><td>154.30</td><td>81.18</td><td>301.1400</td><td>139.58</td></tr>\n",
       "\t<tr><td>2021-09-07</td><td>156.69</td><td>78.47</td><td>300.1800</td><td>138.06</td></tr>\n",
       "\t<tr><td>2021-09-08</td><td>155.11</td><td>80.29</td><td>300.2100</td><td>138.67</td></tr>\n",
       "\t<tr><td>2021-09-09</td><td>154.07</td><td>78.05</td><td>297.2500</td><td>137.74</td></tr>\n",
       "\t<tr><td>2021-09-10</td><td>148.97</td><td>79.64</td><td>295.7100</td><td>137.02</td></tr>\n",
       "\t<tr><td>2021-09-13</td><td>149.55</td><td>78.53</td><td>296.9900</td><td>138.15</td></tr>\n",
       "\t<tr><td>2021-09-14</td><td>148.12</td><td>77.84</td><td>299.7900</td><td>136.22</td></tr>\n",
       "\t<tr><td>2021-09-15</td><td>149.03</td><td>78.25</td><td>304.8200</td><td>137.20</td></tr>\n",
       "\t<tr><td>2021-09-16</td><td>148.79</td><td>79.28</td><td>305.2200</td><td>136.43</td></tr>\n",
       "\t<tr><td>2021-09-17</td><td>146.06</td><td>79.56</td><td>299.8700</td><td>135.23</td></tr>\n",
       "\t<tr><td>2021-09-20</td><td>142.94</td><td>76.18</td><td>294.3000</td><td>134.31</td></tr>\n",
       "\t<tr><td>2021-09-21</td><td>143.43</td><td>73.03</td><td>294.8000</td><td>132.97</td></tr>\n",
       "\t<tr><td>2021-09-22</td><td>145.85</td><td>72.81</td><td>298.5800</td><td>134.63</td></tr>\n",
       "\t<tr><td>2021-09-23</td><td>146.83</td><td>74.67</td><td>299.5600</td><td>136.73</td></tr>\n",
       "\t<tr><td>2021-09-24</td><td>146.92</td><td>75.26</td><td>299.3500</td><td>137.49</td></tr>\n",
       "\t<tr><td>2021-09-27</td><td>145.37</td><td>75.08</td><td>294.1700</td><td>138.56</td></tr>\n",
       "</tbody>\n",
       "</table>\n"
      ],
      "text/latex": [
       "A data.frame: 5512 × 5\n",
       "\\begin{tabular}{lllll}\n",
       " Date & Apple & Activision & Microsoft & IBM\\\\\n",
       " <date> & <dbl> & <dbl> & <dbl> & <dbl>\\\\\n",
       "\\hline\n",
       "\t 1999-11-01 & 0.5949763 & 1.045068 & 29.27449 & 59.35827\\\\\n",
       "\t 1999-11-02 & 0.6151359 & 1.059191 & 29.33471 & 58.16804\\\\\n",
       "\t 1999-11-03 & 0.6247174 & 1.077773 & 29.15723 & 57.89809\\\\\n",
       "\t 1999-11-04 & 0.6409678 & 1.086692 & 29.07800 & 56.17409\\\\\n",
       "\t 1999-11-05 & 0.6769178 & 1.143183 & 29.01778 & 55.37038\\\\\n",
       "\t 1999-11-08 & 0.7386996 & 1.189267 & 28.50436 & 57.70790\\\\\n",
       "\t 1999-11-09 & 0.6869592 & 1.156562 & 28.16525 & 57.51132\\\\\n",
       "\t 1999-11-10 & 0.7009100 & 1.129060 & 27.61063 & 59.58767\\\\\n",
       "\t 1999-11-11 & 0.7071188 & 1.100815 & 28.40294 & 58.35906\\\\\n",
       "\t 1999-11-12 & 0.6946245 & 1.045068 & 28.26667 & 58.89351\\\\\n",
       "\t 1999-11-15 & 0.6855795 & 1.049528 & 27.57260 & 57.78161\\\\\n",
       "\t 1999-11-16 & 0.6989937 & 1.054731 & 27.67084 & 58.12562\\\\\n",
       "\t 1999-11-17 & 0.6917883 & 1.036149 & 26.93874 & 57.59118\\\\\n",
       "\t 1999-11-18 & 0.6869592 & 1.082233 & 26.91973 & 60.20198\\\\\n",
       "\t 1999-11-19 & 0.7085752 & 1.040608 & 27.25567 & 63.85096\\\\\n",
       "\t 1999-11-22 & 0.6946245 & 1.133520 & 28.46316 & 66.26518\\\\\n",
       "\t 1999-11-23 & 0.7114114 & 1.189267 & 28.40294 & 65.15328\\\\\n",
       "\t 1999-11-24 & 0.7258220 & 1.156562 & 29.05898 & 64.19497\\\\\n",
       "\t 1999-11-26 & 0.7286582 & 1.143183 & 28.87833 & 64.50212\\\\\n",
       "\t 1999-11-29 & 0.7248255 & 1.156562 & 28.58359 & 64.00453\\\\\n",
       "\t 1999-11-30 & 0.7501975 & 1.116424 & 28.85615 & 63.31037\\\\\n",
       "\t 1999-12-01 & 0.7899801 & 1.166225 & 29.53437 & 63.53152\\\\\n",
       "\t 1999-12-02 & 0.8446333 & 1.161022 & 30.04779 & 64.66798\\\\\n",
       "\t 1999-12-03 & 0.8815031 & 1.156562 & 30.46297 & 68.72240\\\\\n",
       "\t 1999-12-06 & 0.8891684 & 1.161022 & 30.24746 & 71.25948\\\\\n",
       "\t 1999-12-07 & 0.9030425 & 1.076286 & 29.47416 & 71.64035\\\\\n",
       "\t 1999-12-08 & 0.8436368 & 1.073313 & 29.07800 & 72.66010\\\\\n",
       "\t 1999-12-09 & 0.8067670 & 1.105275 & 29.39492 & 69.64386\\\\\n",
       "\t 1999-12-10 & 0.7895202 & 1.166225 & 29.74988 & 66.95934\\\\\n",
       "\t 1999-12-13 & 0.7588592 & 1.228661 & 30.62143 & 67.38936\\\\\n",
       "\t ⋮ & ⋮ & ⋮ & ⋮ & ⋮\\\\\n",
       "\t 2021-08-16 & 151.12 & 83.85 & 294.0336 & 143.59\\\\\n",
       "\t 2021-08-17 & 150.19 & 83.37 & 292.5166 & 142.42\\\\\n",
       "\t 2021-08-18 & 146.36 & 82.83 & 290.7300 & 139.47\\\\\n",
       "\t 2021-08-19 & 146.70 & 83.17 & 296.7700 & 138.02\\\\\n",
       "\t 2021-08-20 & 148.19 & 82.63 & 304.3600 & 139.11\\\\\n",
       "\t 2021-08-23 & 149.71 & 82.22 & 304.6500 & 139.62\\\\\n",
       "\t 2021-08-24 & 149.62 & 81.79 & 302.6200 & 139.84\\\\\n",
       "\t 2021-08-25 & 148.36 & 80.81 & 302.0100 & 139.86\\\\\n",
       "\t 2021-08-26 & 147.54 & 81.25 & 299.0900 & 138.78\\\\\n",
       "\t 2021-08-27 & 148.60 & 82.43 & 299.7200 & 139.41\\\\\n",
       "\t 2021-08-30 & 153.12 & 81.12 & 303.5900 & 138.97\\\\\n",
       "\t 2021-08-31 & 151.83 & 82.37 & 301.8800 & 140.34\\\\\n",
       "\t 2021-09-01 & 152.51 & 82.30 & 301.8300 & 139.30\\\\\n",
       "\t 2021-09-02 & 153.65 & 81.31 & 301.1500 & 140.01\\\\\n",
       "\t 2021-09-03 & 154.30 & 81.18 & 301.1400 & 139.58\\\\\n",
       "\t 2021-09-07 & 156.69 & 78.47 & 300.1800 & 138.06\\\\\n",
       "\t 2021-09-08 & 155.11 & 80.29 & 300.2100 & 138.67\\\\\n",
       "\t 2021-09-09 & 154.07 & 78.05 & 297.2500 & 137.74\\\\\n",
       "\t 2021-09-10 & 148.97 & 79.64 & 295.7100 & 137.02\\\\\n",
       "\t 2021-09-13 & 149.55 & 78.53 & 296.9900 & 138.15\\\\\n",
       "\t 2021-09-14 & 148.12 & 77.84 & 299.7900 & 136.22\\\\\n",
       "\t 2021-09-15 & 149.03 & 78.25 & 304.8200 & 137.20\\\\\n",
       "\t 2021-09-16 & 148.79 & 79.28 & 305.2200 & 136.43\\\\\n",
       "\t 2021-09-17 & 146.06 & 79.56 & 299.8700 & 135.23\\\\\n",
       "\t 2021-09-20 & 142.94 & 76.18 & 294.3000 & 134.31\\\\\n",
       "\t 2021-09-21 & 143.43 & 73.03 & 294.8000 & 132.97\\\\\n",
       "\t 2021-09-22 & 145.85 & 72.81 & 298.5800 & 134.63\\\\\n",
       "\t 2021-09-23 & 146.83 & 74.67 & 299.5600 & 136.73\\\\\n",
       "\t 2021-09-24 & 146.92 & 75.26 & 299.3500 & 137.49\\\\\n",
       "\t 2021-09-27 & 145.37 & 75.08 & 294.1700 & 138.56\\\\\n",
       "\\end{tabular}\n"
      ],
      "text/markdown": [
       "\n",
       "A data.frame: 5512 × 5\n",
       "\n",
       "| Date &lt;date&gt; | Apple &lt;dbl&gt; | Activision &lt;dbl&gt; | Microsoft &lt;dbl&gt; | IBM &lt;dbl&gt; |\n",
       "|---|---|---|---|---|\n",
       "| 1999-11-01 | 0.5949763 | 1.045068 | 29.27449 | 59.35827 |\n",
       "| 1999-11-02 | 0.6151359 | 1.059191 | 29.33471 | 58.16804 |\n",
       "| 1999-11-03 | 0.6247174 | 1.077773 | 29.15723 | 57.89809 |\n",
       "| 1999-11-04 | 0.6409678 | 1.086692 | 29.07800 | 56.17409 |\n",
       "| 1999-11-05 | 0.6769178 | 1.143183 | 29.01778 | 55.37038 |\n",
       "| 1999-11-08 | 0.7386996 | 1.189267 | 28.50436 | 57.70790 |\n",
       "| 1999-11-09 | 0.6869592 | 1.156562 | 28.16525 | 57.51132 |\n",
       "| 1999-11-10 | 0.7009100 | 1.129060 | 27.61063 | 59.58767 |\n",
       "| 1999-11-11 | 0.7071188 | 1.100815 | 28.40294 | 58.35906 |\n",
       "| 1999-11-12 | 0.6946245 | 1.045068 | 28.26667 | 58.89351 |\n",
       "| 1999-11-15 | 0.6855795 | 1.049528 | 27.57260 | 57.78161 |\n",
       "| 1999-11-16 | 0.6989937 | 1.054731 | 27.67084 | 58.12562 |\n",
       "| 1999-11-17 | 0.6917883 | 1.036149 | 26.93874 | 57.59118 |\n",
       "| 1999-11-18 | 0.6869592 | 1.082233 | 26.91973 | 60.20198 |\n",
       "| 1999-11-19 | 0.7085752 | 1.040608 | 27.25567 | 63.85096 |\n",
       "| 1999-11-22 | 0.6946245 | 1.133520 | 28.46316 | 66.26518 |\n",
       "| 1999-11-23 | 0.7114114 | 1.189267 | 28.40294 | 65.15328 |\n",
       "| 1999-11-24 | 0.7258220 | 1.156562 | 29.05898 | 64.19497 |\n",
       "| 1999-11-26 | 0.7286582 | 1.143183 | 28.87833 | 64.50212 |\n",
       "| 1999-11-29 | 0.7248255 | 1.156562 | 28.58359 | 64.00453 |\n",
       "| 1999-11-30 | 0.7501975 | 1.116424 | 28.85615 | 63.31037 |\n",
       "| 1999-12-01 | 0.7899801 | 1.166225 | 29.53437 | 63.53152 |\n",
       "| 1999-12-02 | 0.8446333 | 1.161022 | 30.04779 | 64.66798 |\n",
       "| 1999-12-03 | 0.8815031 | 1.156562 | 30.46297 | 68.72240 |\n",
       "| 1999-12-06 | 0.8891684 | 1.161022 | 30.24746 | 71.25948 |\n",
       "| 1999-12-07 | 0.9030425 | 1.076286 | 29.47416 | 71.64035 |\n",
       "| 1999-12-08 | 0.8436368 | 1.073313 | 29.07800 | 72.66010 |\n",
       "| 1999-12-09 | 0.8067670 | 1.105275 | 29.39492 | 69.64386 |\n",
       "| 1999-12-10 | 0.7895202 | 1.166225 | 29.74988 | 66.95934 |\n",
       "| 1999-12-13 | 0.7588592 | 1.228661 | 30.62143 | 67.38936 |\n",
       "| ⋮ | ⋮ | ⋮ | ⋮ | ⋮ |\n",
       "| 2021-08-16 | 151.12 | 83.85 | 294.0336 | 143.59 |\n",
       "| 2021-08-17 | 150.19 | 83.37 | 292.5166 | 142.42 |\n",
       "| 2021-08-18 | 146.36 | 82.83 | 290.7300 | 139.47 |\n",
       "| 2021-08-19 | 146.70 | 83.17 | 296.7700 | 138.02 |\n",
       "| 2021-08-20 | 148.19 | 82.63 | 304.3600 | 139.11 |\n",
       "| 2021-08-23 | 149.71 | 82.22 | 304.6500 | 139.62 |\n",
       "| 2021-08-24 | 149.62 | 81.79 | 302.6200 | 139.84 |\n",
       "| 2021-08-25 | 148.36 | 80.81 | 302.0100 | 139.86 |\n",
       "| 2021-08-26 | 147.54 | 81.25 | 299.0900 | 138.78 |\n",
       "| 2021-08-27 | 148.60 | 82.43 | 299.7200 | 139.41 |\n",
       "| 2021-08-30 | 153.12 | 81.12 | 303.5900 | 138.97 |\n",
       "| 2021-08-31 | 151.83 | 82.37 | 301.8800 | 140.34 |\n",
       "| 2021-09-01 | 152.51 | 82.30 | 301.8300 | 139.30 |\n",
       "| 2021-09-02 | 153.65 | 81.31 | 301.1500 | 140.01 |\n",
       "| 2021-09-03 | 154.30 | 81.18 | 301.1400 | 139.58 |\n",
       "| 2021-09-07 | 156.69 | 78.47 | 300.1800 | 138.06 |\n",
       "| 2021-09-08 | 155.11 | 80.29 | 300.2100 | 138.67 |\n",
       "| 2021-09-09 | 154.07 | 78.05 | 297.2500 | 137.74 |\n",
       "| 2021-09-10 | 148.97 | 79.64 | 295.7100 | 137.02 |\n",
       "| 2021-09-13 | 149.55 | 78.53 | 296.9900 | 138.15 |\n",
       "| 2021-09-14 | 148.12 | 77.84 | 299.7900 | 136.22 |\n",
       "| 2021-09-15 | 149.03 | 78.25 | 304.8200 | 137.20 |\n",
       "| 2021-09-16 | 148.79 | 79.28 | 305.2200 | 136.43 |\n",
       "| 2021-09-17 | 146.06 | 79.56 | 299.8700 | 135.23 |\n",
       "| 2021-09-20 | 142.94 | 76.18 | 294.3000 | 134.31 |\n",
       "| 2021-09-21 | 143.43 | 73.03 | 294.8000 | 132.97 |\n",
       "| 2021-09-22 | 145.85 | 72.81 | 298.5800 | 134.63 |\n",
       "| 2021-09-23 | 146.83 | 74.67 | 299.5600 | 136.73 |\n",
       "| 2021-09-24 | 146.92 | 75.26 | 299.3500 | 137.49 |\n",
       "| 2021-09-27 | 145.37 | 75.08 | 294.1700 | 138.56 |\n",
       "\n"
      ],
      "text/plain": [
       "     Date       Apple     Activision Microsoft IBM     \n",
       "1    1999-11-01 0.5949763 1.045068   29.27449  59.35827\n",
       "2    1999-11-02 0.6151359 1.059191   29.33471  58.16804\n",
       "3    1999-11-03 0.6247174 1.077773   29.15723  57.89809\n",
       "4    1999-11-04 0.6409678 1.086692   29.07800  56.17409\n",
       "5    1999-11-05 0.6769178 1.143183   29.01778  55.37038\n",
       "6    1999-11-08 0.7386996 1.189267   28.50436  57.70790\n",
       "7    1999-11-09 0.6869592 1.156562   28.16525  57.51132\n",
       "8    1999-11-10 0.7009100 1.129060   27.61063  59.58767\n",
       "9    1999-11-11 0.7071188 1.100815   28.40294  58.35906\n",
       "10   1999-11-12 0.6946245 1.045068   28.26667  58.89351\n",
       "11   1999-11-15 0.6855795 1.049528   27.57260  57.78161\n",
       "12   1999-11-16 0.6989937 1.054731   27.67084  58.12562\n",
       "13   1999-11-17 0.6917883 1.036149   26.93874  57.59118\n",
       "14   1999-11-18 0.6869592 1.082233   26.91973  60.20198\n",
       "15   1999-11-19 0.7085752 1.040608   27.25567  63.85096\n",
       "16   1999-11-22 0.6946245 1.133520   28.46316  66.26518\n",
       "17   1999-11-23 0.7114114 1.189267   28.40294  65.15328\n",
       "18   1999-11-24 0.7258220 1.156562   29.05898  64.19497\n",
       "19   1999-11-26 0.7286582 1.143183   28.87833  64.50212\n",
       "20   1999-11-29 0.7248255 1.156562   28.58359  64.00453\n",
       "21   1999-11-30 0.7501975 1.116424   28.85615  63.31037\n",
       "22   1999-12-01 0.7899801 1.166225   29.53437  63.53152\n",
       "23   1999-12-02 0.8446333 1.161022   30.04779  64.66798\n",
       "24   1999-12-03 0.8815031 1.156562   30.46297  68.72240\n",
       "25   1999-12-06 0.8891684 1.161022   30.24746  71.25948\n",
       "26   1999-12-07 0.9030425 1.076286   29.47416  71.64035\n",
       "27   1999-12-08 0.8436368 1.073313   29.07800  72.66010\n",
       "28   1999-12-09 0.8067670 1.105275   29.39492  69.64386\n",
       "29   1999-12-10 0.7895202 1.166225   29.74988  66.95934\n",
       "30   1999-12-13 0.7588592 1.228661   30.62143  67.38936\n",
       "⋮    ⋮          ⋮         ⋮          ⋮         ⋮       \n",
       "5483 2021-08-16 151.12    83.85      294.0336  143.59  \n",
       "5484 2021-08-17 150.19    83.37      292.5166  142.42  \n",
       "5485 2021-08-18 146.36    82.83      290.7300  139.47  \n",
       "5486 2021-08-19 146.70    83.17      296.7700  138.02  \n",
       "5487 2021-08-20 148.19    82.63      304.3600  139.11  \n",
       "5488 2021-08-23 149.71    82.22      304.6500  139.62  \n",
       "5489 2021-08-24 149.62    81.79      302.6200  139.84  \n",
       "5490 2021-08-25 148.36    80.81      302.0100  139.86  \n",
       "5491 2021-08-26 147.54    81.25      299.0900  138.78  \n",
       "5492 2021-08-27 148.60    82.43      299.7200  139.41  \n",
       "5493 2021-08-30 153.12    81.12      303.5900  138.97  \n",
       "5494 2021-08-31 151.83    82.37      301.8800  140.34  \n",
       "5495 2021-09-01 152.51    82.30      301.8300  139.30  \n",
       "5496 2021-09-02 153.65    81.31      301.1500  140.01  \n",
       "5497 2021-09-03 154.30    81.18      301.1400  139.58  \n",
       "5498 2021-09-07 156.69    78.47      300.1800  138.06  \n",
       "5499 2021-09-08 155.11    80.29      300.2100  138.67  \n",
       "5500 2021-09-09 154.07    78.05      297.2500  137.74  \n",
       "5501 2021-09-10 148.97    79.64      295.7100  137.02  \n",
       "5502 2021-09-13 149.55    78.53      296.9900  138.15  \n",
       "5503 2021-09-14 148.12    77.84      299.7900  136.22  \n",
       "5504 2021-09-15 149.03    78.25      304.8200  137.20  \n",
       "5505 2021-09-16 148.79    79.28      305.2200  136.43  \n",
       "5506 2021-09-17 146.06    79.56      299.8700  135.23  \n",
       "5507 2021-09-20 142.94    76.18      294.3000  134.31  \n",
       "5508 2021-09-21 143.43    73.03      294.8000  132.97  \n",
       "5509 2021-09-22 145.85    72.81      298.5800  134.63  \n",
       "5510 2021-09-23 146.83    74.67      299.5600  136.73  \n",
       "5511 2021-09-24 146.92    75.26      299.3500  137.49  \n",
       "5512 2021-09-27 145.37    75.08      294.1700  138.56  "
      ]
     },
     "metadata": {},
     "output_type": "display_data"
    }
   ],
   "source": [
    "return_table <- data.frame(stock_table_arranged)\n",
    "return_table"
   ]
  },
  {
   "cell_type": "markdown",
   "id": "5af8147a-e4bb-46d6-b0aa-365261aa13bf",
   "metadata": {},
   "source": [
    "Sort the `return_table` by date in the ascending order"
   ]
  },
  {
   "cell_type": "code",
   "execution_count": 30,
   "id": "9ecfa901-24c1-4041-8779-18f4a6d6da04",
   "metadata": {},
   "outputs": [
    {
     "data": {
      "text/html": [
       "<table>\n",
       "<caption>A data.frame: 5511 × 5</caption>\n",
       "<thead>\n",
       "\t<tr><th scope=col>Date</th><th scope=col>Apple</th><th scope=col>Activision</th><th scope=col>Microsoft</th><th scope=col>IBM</th></tr>\n",
       "\t<tr><th scope=col>&lt;date&gt;</th><th scope=col>&lt;dbl&gt;</th><th scope=col>&lt;dbl&gt;</th><th scope=col>&lt;dbl&gt;</th><th scope=col>&lt;dbl&gt;</th></tr>\n",
       "</thead>\n",
       "<tbody>\n",
       "\t<tr><td>1999-11-02</td><td>0.6151359</td><td>1.059191</td><td>29.33471</td><td>58.16804</td></tr>\n",
       "\t<tr><td>1999-11-03</td><td>0.6247174</td><td>1.077773</td><td>29.15723</td><td>57.89809</td></tr>\n",
       "\t<tr><td>1999-11-04</td><td>0.6409678</td><td>1.086692</td><td>29.07800</td><td>56.17409</td></tr>\n",
       "\t<tr><td>1999-11-05</td><td>0.6769178</td><td>1.143183</td><td>29.01778</td><td>55.37038</td></tr>\n",
       "\t<tr><td>1999-11-08</td><td>0.7386996</td><td>1.189267</td><td>28.50436</td><td>57.70790</td></tr>\n",
       "\t<tr><td>1999-11-09</td><td>0.6869592</td><td>1.156562</td><td>28.16525</td><td>57.51132</td></tr>\n",
       "\t<tr><td>1999-11-10</td><td>0.7009100</td><td>1.129060</td><td>27.61063</td><td>59.58767</td></tr>\n",
       "\t<tr><td>1999-11-11</td><td>0.7071188</td><td>1.100815</td><td>28.40294</td><td>58.35906</td></tr>\n",
       "\t<tr><td>1999-11-12</td><td>0.6946245</td><td>1.045068</td><td>28.26667</td><td>58.89351</td></tr>\n",
       "\t<tr><td>1999-11-15</td><td>0.6855795</td><td>1.049528</td><td>27.57260</td><td>57.78161</td></tr>\n",
       "\t<tr><td>1999-11-16</td><td>0.6989937</td><td>1.054731</td><td>27.67084</td><td>58.12562</td></tr>\n",
       "\t<tr><td>1999-11-17</td><td>0.6917883</td><td>1.036149</td><td>26.93874</td><td>57.59118</td></tr>\n",
       "\t<tr><td>1999-11-18</td><td>0.6869592</td><td>1.082233</td><td>26.91973</td><td>60.20198</td></tr>\n",
       "\t<tr><td>1999-11-19</td><td>0.7085752</td><td>1.040608</td><td>27.25567</td><td>63.85096</td></tr>\n",
       "\t<tr><td>1999-11-22</td><td>0.6946245</td><td>1.133520</td><td>28.46316</td><td>66.26518</td></tr>\n",
       "\t<tr><td>1999-11-23</td><td>0.7114114</td><td>1.189267</td><td>28.40294</td><td>65.15328</td></tr>\n",
       "\t<tr><td>1999-11-24</td><td>0.7258220</td><td>1.156562</td><td>29.05898</td><td>64.19497</td></tr>\n",
       "\t<tr><td>1999-11-26</td><td>0.7286582</td><td>1.143183</td><td>28.87833</td><td>64.50212</td></tr>\n",
       "\t<tr><td>1999-11-29</td><td>0.7248255</td><td>1.156562</td><td>28.58359</td><td>64.00453</td></tr>\n",
       "\t<tr><td>1999-11-30</td><td>0.7501975</td><td>1.116424</td><td>28.85615</td><td>63.31037</td></tr>\n",
       "\t<tr><td>1999-12-01</td><td>0.7899801</td><td>1.166225</td><td>29.53437</td><td>63.53152</td></tr>\n",
       "\t<tr><td>1999-12-02</td><td>0.8446333</td><td>1.161022</td><td>30.04779</td><td>64.66798</td></tr>\n",
       "\t<tr><td>1999-12-03</td><td>0.8815031</td><td>1.156562</td><td>30.46297</td><td>68.72240</td></tr>\n",
       "\t<tr><td>1999-12-06</td><td>0.8891684</td><td>1.161022</td><td>30.24746</td><td>71.25948</td></tr>\n",
       "\t<tr><td>1999-12-07</td><td>0.9030425</td><td>1.076286</td><td>29.47416</td><td>71.64035</td></tr>\n",
       "\t<tr><td>1999-12-08</td><td>0.8436368</td><td>1.073313</td><td>29.07800</td><td>72.66010</td></tr>\n",
       "\t<tr><td>1999-12-09</td><td>0.8067670</td><td>1.105275</td><td>29.39492</td><td>69.64386</td></tr>\n",
       "\t<tr><td>1999-12-10</td><td>0.7895202</td><td>1.166225</td><td>29.74988</td><td>66.95934</td></tr>\n",
       "\t<tr><td>1999-12-13</td><td>0.7588592</td><td>1.228661</td><td>30.62143</td><td>67.38936</td></tr>\n",
       "\t<tr><td>1999-12-14</td><td>0.7272018</td><td>1.226431</td><td>31.27747</td><td>67.11292</td></tr>\n",
       "\t<tr><td>⋮</td><td>⋮</td><td>⋮</td><td>⋮</td><td>⋮</td></tr>\n",
       "\t<tr><td>2021-08-16</td><td>151.12</td><td>83.85</td><td>294.0336</td><td>143.59</td></tr>\n",
       "\t<tr><td>2021-08-17</td><td>150.19</td><td>83.37</td><td>292.5166</td><td>142.42</td></tr>\n",
       "\t<tr><td>2021-08-18</td><td>146.36</td><td>82.83</td><td>290.7300</td><td>139.47</td></tr>\n",
       "\t<tr><td>2021-08-19</td><td>146.70</td><td>83.17</td><td>296.7700</td><td>138.02</td></tr>\n",
       "\t<tr><td>2021-08-20</td><td>148.19</td><td>82.63</td><td>304.3600</td><td>139.11</td></tr>\n",
       "\t<tr><td>2021-08-23</td><td>149.71</td><td>82.22</td><td>304.6500</td><td>139.62</td></tr>\n",
       "\t<tr><td>2021-08-24</td><td>149.62</td><td>81.79</td><td>302.6200</td><td>139.84</td></tr>\n",
       "\t<tr><td>2021-08-25</td><td>148.36</td><td>80.81</td><td>302.0100</td><td>139.86</td></tr>\n",
       "\t<tr><td>2021-08-26</td><td>147.54</td><td>81.25</td><td>299.0900</td><td>138.78</td></tr>\n",
       "\t<tr><td>2021-08-27</td><td>148.60</td><td>82.43</td><td>299.7200</td><td>139.41</td></tr>\n",
       "\t<tr><td>2021-08-30</td><td>153.12</td><td>81.12</td><td>303.5900</td><td>138.97</td></tr>\n",
       "\t<tr><td>2021-08-31</td><td>151.83</td><td>82.37</td><td>301.8800</td><td>140.34</td></tr>\n",
       "\t<tr><td>2021-09-01</td><td>152.51</td><td>82.30</td><td>301.8300</td><td>139.30</td></tr>\n",
       "\t<tr><td>2021-09-02</td><td>153.65</td><td>81.31</td><td>301.1500</td><td>140.01</td></tr>\n",
       "\t<tr><td>2021-09-03</td><td>154.30</td><td>81.18</td><td>301.1400</td><td>139.58</td></tr>\n",
       "\t<tr><td>2021-09-07</td><td>156.69</td><td>78.47</td><td>300.1800</td><td>138.06</td></tr>\n",
       "\t<tr><td>2021-09-08</td><td>155.11</td><td>80.29</td><td>300.2100</td><td>138.67</td></tr>\n",
       "\t<tr><td>2021-09-09</td><td>154.07</td><td>78.05</td><td>297.2500</td><td>137.74</td></tr>\n",
       "\t<tr><td>2021-09-10</td><td>148.97</td><td>79.64</td><td>295.7100</td><td>137.02</td></tr>\n",
       "\t<tr><td>2021-09-13</td><td>149.55</td><td>78.53</td><td>296.9900</td><td>138.15</td></tr>\n",
       "\t<tr><td>2021-09-14</td><td>148.12</td><td>77.84</td><td>299.7900</td><td>136.22</td></tr>\n",
       "\t<tr><td>2021-09-15</td><td>149.03</td><td>78.25</td><td>304.8200</td><td>137.20</td></tr>\n",
       "\t<tr><td>2021-09-16</td><td>148.79</td><td>79.28</td><td>305.2200</td><td>136.43</td></tr>\n",
       "\t<tr><td>2021-09-17</td><td>146.06</td><td>79.56</td><td>299.8700</td><td>135.23</td></tr>\n",
       "\t<tr><td>2021-09-20</td><td>142.94</td><td>76.18</td><td>294.3000</td><td>134.31</td></tr>\n",
       "\t<tr><td>2021-09-21</td><td>143.43</td><td>73.03</td><td>294.8000</td><td>132.97</td></tr>\n",
       "\t<tr><td>2021-09-22</td><td>145.85</td><td>72.81</td><td>298.5800</td><td>134.63</td></tr>\n",
       "\t<tr><td>2021-09-23</td><td>146.83</td><td>74.67</td><td>299.5600</td><td>136.73</td></tr>\n",
       "\t<tr><td>2021-09-24</td><td>146.92</td><td>75.26</td><td>299.3500</td><td>137.49</td></tr>\n",
       "\t<tr><td>2021-09-27</td><td>145.37</td><td>75.08</td><td>294.1700</td><td>138.56</td></tr>\n",
       "</tbody>\n",
       "</table>\n"
      ],
      "text/latex": [
       "A data.frame: 5511 × 5\n",
       "\\begin{tabular}{lllll}\n",
       " Date & Apple & Activision & Microsoft & IBM\\\\\n",
       " <date> & <dbl> & <dbl> & <dbl> & <dbl>\\\\\n",
       "\\hline\n",
       "\t 1999-11-02 & 0.6151359 & 1.059191 & 29.33471 & 58.16804\\\\\n",
       "\t 1999-11-03 & 0.6247174 & 1.077773 & 29.15723 & 57.89809\\\\\n",
       "\t 1999-11-04 & 0.6409678 & 1.086692 & 29.07800 & 56.17409\\\\\n",
       "\t 1999-11-05 & 0.6769178 & 1.143183 & 29.01778 & 55.37038\\\\\n",
       "\t 1999-11-08 & 0.7386996 & 1.189267 & 28.50436 & 57.70790\\\\\n",
       "\t 1999-11-09 & 0.6869592 & 1.156562 & 28.16525 & 57.51132\\\\\n",
       "\t 1999-11-10 & 0.7009100 & 1.129060 & 27.61063 & 59.58767\\\\\n",
       "\t 1999-11-11 & 0.7071188 & 1.100815 & 28.40294 & 58.35906\\\\\n",
       "\t 1999-11-12 & 0.6946245 & 1.045068 & 28.26667 & 58.89351\\\\\n",
       "\t 1999-11-15 & 0.6855795 & 1.049528 & 27.57260 & 57.78161\\\\\n",
       "\t 1999-11-16 & 0.6989937 & 1.054731 & 27.67084 & 58.12562\\\\\n",
       "\t 1999-11-17 & 0.6917883 & 1.036149 & 26.93874 & 57.59118\\\\\n",
       "\t 1999-11-18 & 0.6869592 & 1.082233 & 26.91973 & 60.20198\\\\\n",
       "\t 1999-11-19 & 0.7085752 & 1.040608 & 27.25567 & 63.85096\\\\\n",
       "\t 1999-11-22 & 0.6946245 & 1.133520 & 28.46316 & 66.26518\\\\\n",
       "\t 1999-11-23 & 0.7114114 & 1.189267 & 28.40294 & 65.15328\\\\\n",
       "\t 1999-11-24 & 0.7258220 & 1.156562 & 29.05898 & 64.19497\\\\\n",
       "\t 1999-11-26 & 0.7286582 & 1.143183 & 28.87833 & 64.50212\\\\\n",
       "\t 1999-11-29 & 0.7248255 & 1.156562 & 28.58359 & 64.00453\\\\\n",
       "\t 1999-11-30 & 0.7501975 & 1.116424 & 28.85615 & 63.31037\\\\\n",
       "\t 1999-12-01 & 0.7899801 & 1.166225 & 29.53437 & 63.53152\\\\\n",
       "\t 1999-12-02 & 0.8446333 & 1.161022 & 30.04779 & 64.66798\\\\\n",
       "\t 1999-12-03 & 0.8815031 & 1.156562 & 30.46297 & 68.72240\\\\\n",
       "\t 1999-12-06 & 0.8891684 & 1.161022 & 30.24746 & 71.25948\\\\\n",
       "\t 1999-12-07 & 0.9030425 & 1.076286 & 29.47416 & 71.64035\\\\\n",
       "\t 1999-12-08 & 0.8436368 & 1.073313 & 29.07800 & 72.66010\\\\\n",
       "\t 1999-12-09 & 0.8067670 & 1.105275 & 29.39492 & 69.64386\\\\\n",
       "\t 1999-12-10 & 0.7895202 & 1.166225 & 29.74988 & 66.95934\\\\\n",
       "\t 1999-12-13 & 0.7588592 & 1.228661 & 30.62143 & 67.38936\\\\\n",
       "\t 1999-12-14 & 0.7272018 & 1.226431 & 31.27747 & 67.11292\\\\\n",
       "\t ⋮ & ⋮ & ⋮ & ⋮ & ⋮\\\\\n",
       "\t 2021-08-16 & 151.12 & 83.85 & 294.0336 & 143.59\\\\\n",
       "\t 2021-08-17 & 150.19 & 83.37 & 292.5166 & 142.42\\\\\n",
       "\t 2021-08-18 & 146.36 & 82.83 & 290.7300 & 139.47\\\\\n",
       "\t 2021-08-19 & 146.70 & 83.17 & 296.7700 & 138.02\\\\\n",
       "\t 2021-08-20 & 148.19 & 82.63 & 304.3600 & 139.11\\\\\n",
       "\t 2021-08-23 & 149.71 & 82.22 & 304.6500 & 139.62\\\\\n",
       "\t 2021-08-24 & 149.62 & 81.79 & 302.6200 & 139.84\\\\\n",
       "\t 2021-08-25 & 148.36 & 80.81 & 302.0100 & 139.86\\\\\n",
       "\t 2021-08-26 & 147.54 & 81.25 & 299.0900 & 138.78\\\\\n",
       "\t 2021-08-27 & 148.60 & 82.43 & 299.7200 & 139.41\\\\\n",
       "\t 2021-08-30 & 153.12 & 81.12 & 303.5900 & 138.97\\\\\n",
       "\t 2021-08-31 & 151.83 & 82.37 & 301.8800 & 140.34\\\\\n",
       "\t 2021-09-01 & 152.51 & 82.30 & 301.8300 & 139.30\\\\\n",
       "\t 2021-09-02 & 153.65 & 81.31 & 301.1500 & 140.01\\\\\n",
       "\t 2021-09-03 & 154.30 & 81.18 & 301.1400 & 139.58\\\\\n",
       "\t 2021-09-07 & 156.69 & 78.47 & 300.1800 & 138.06\\\\\n",
       "\t 2021-09-08 & 155.11 & 80.29 & 300.2100 & 138.67\\\\\n",
       "\t 2021-09-09 & 154.07 & 78.05 & 297.2500 & 137.74\\\\\n",
       "\t 2021-09-10 & 148.97 & 79.64 & 295.7100 & 137.02\\\\\n",
       "\t 2021-09-13 & 149.55 & 78.53 & 296.9900 & 138.15\\\\\n",
       "\t 2021-09-14 & 148.12 & 77.84 & 299.7900 & 136.22\\\\\n",
       "\t 2021-09-15 & 149.03 & 78.25 & 304.8200 & 137.20\\\\\n",
       "\t 2021-09-16 & 148.79 & 79.28 & 305.2200 & 136.43\\\\\n",
       "\t 2021-09-17 & 146.06 & 79.56 & 299.8700 & 135.23\\\\\n",
       "\t 2021-09-20 & 142.94 & 76.18 & 294.3000 & 134.31\\\\\n",
       "\t 2021-09-21 & 143.43 & 73.03 & 294.8000 & 132.97\\\\\n",
       "\t 2021-09-22 & 145.85 & 72.81 & 298.5800 & 134.63\\\\\n",
       "\t 2021-09-23 & 146.83 & 74.67 & 299.5600 & 136.73\\\\\n",
       "\t 2021-09-24 & 146.92 & 75.26 & 299.3500 & 137.49\\\\\n",
       "\t 2021-09-27 & 145.37 & 75.08 & 294.1700 & 138.56\\\\\n",
       "\\end{tabular}\n"
      ],
      "text/markdown": [
       "\n",
       "A data.frame: 5511 × 5\n",
       "\n",
       "| Date &lt;date&gt; | Apple &lt;dbl&gt; | Activision &lt;dbl&gt; | Microsoft &lt;dbl&gt; | IBM &lt;dbl&gt; |\n",
       "|---|---|---|---|---|\n",
       "| 1999-11-02 | 0.6151359 | 1.059191 | 29.33471 | 58.16804 |\n",
       "| 1999-11-03 | 0.6247174 | 1.077773 | 29.15723 | 57.89809 |\n",
       "| 1999-11-04 | 0.6409678 | 1.086692 | 29.07800 | 56.17409 |\n",
       "| 1999-11-05 | 0.6769178 | 1.143183 | 29.01778 | 55.37038 |\n",
       "| 1999-11-08 | 0.7386996 | 1.189267 | 28.50436 | 57.70790 |\n",
       "| 1999-11-09 | 0.6869592 | 1.156562 | 28.16525 | 57.51132 |\n",
       "| 1999-11-10 | 0.7009100 | 1.129060 | 27.61063 | 59.58767 |\n",
       "| 1999-11-11 | 0.7071188 | 1.100815 | 28.40294 | 58.35906 |\n",
       "| 1999-11-12 | 0.6946245 | 1.045068 | 28.26667 | 58.89351 |\n",
       "| 1999-11-15 | 0.6855795 | 1.049528 | 27.57260 | 57.78161 |\n",
       "| 1999-11-16 | 0.6989937 | 1.054731 | 27.67084 | 58.12562 |\n",
       "| 1999-11-17 | 0.6917883 | 1.036149 | 26.93874 | 57.59118 |\n",
       "| 1999-11-18 | 0.6869592 | 1.082233 | 26.91973 | 60.20198 |\n",
       "| 1999-11-19 | 0.7085752 | 1.040608 | 27.25567 | 63.85096 |\n",
       "| 1999-11-22 | 0.6946245 | 1.133520 | 28.46316 | 66.26518 |\n",
       "| 1999-11-23 | 0.7114114 | 1.189267 | 28.40294 | 65.15328 |\n",
       "| 1999-11-24 | 0.7258220 | 1.156562 | 29.05898 | 64.19497 |\n",
       "| 1999-11-26 | 0.7286582 | 1.143183 | 28.87833 | 64.50212 |\n",
       "| 1999-11-29 | 0.7248255 | 1.156562 | 28.58359 | 64.00453 |\n",
       "| 1999-11-30 | 0.7501975 | 1.116424 | 28.85615 | 63.31037 |\n",
       "| 1999-12-01 | 0.7899801 | 1.166225 | 29.53437 | 63.53152 |\n",
       "| 1999-12-02 | 0.8446333 | 1.161022 | 30.04779 | 64.66798 |\n",
       "| 1999-12-03 | 0.8815031 | 1.156562 | 30.46297 | 68.72240 |\n",
       "| 1999-12-06 | 0.8891684 | 1.161022 | 30.24746 | 71.25948 |\n",
       "| 1999-12-07 | 0.9030425 | 1.076286 | 29.47416 | 71.64035 |\n",
       "| 1999-12-08 | 0.8436368 | 1.073313 | 29.07800 | 72.66010 |\n",
       "| 1999-12-09 | 0.8067670 | 1.105275 | 29.39492 | 69.64386 |\n",
       "| 1999-12-10 | 0.7895202 | 1.166225 | 29.74988 | 66.95934 |\n",
       "| 1999-12-13 | 0.7588592 | 1.228661 | 30.62143 | 67.38936 |\n",
       "| 1999-12-14 | 0.7272018 | 1.226431 | 31.27747 | 67.11292 |\n",
       "| ⋮ | ⋮ | ⋮ | ⋮ | ⋮ |\n",
       "| 2021-08-16 | 151.12 | 83.85 | 294.0336 | 143.59 |\n",
       "| 2021-08-17 | 150.19 | 83.37 | 292.5166 | 142.42 |\n",
       "| 2021-08-18 | 146.36 | 82.83 | 290.7300 | 139.47 |\n",
       "| 2021-08-19 | 146.70 | 83.17 | 296.7700 | 138.02 |\n",
       "| 2021-08-20 | 148.19 | 82.63 | 304.3600 | 139.11 |\n",
       "| 2021-08-23 | 149.71 | 82.22 | 304.6500 | 139.62 |\n",
       "| 2021-08-24 | 149.62 | 81.79 | 302.6200 | 139.84 |\n",
       "| 2021-08-25 | 148.36 | 80.81 | 302.0100 | 139.86 |\n",
       "| 2021-08-26 | 147.54 | 81.25 | 299.0900 | 138.78 |\n",
       "| 2021-08-27 | 148.60 | 82.43 | 299.7200 | 139.41 |\n",
       "| 2021-08-30 | 153.12 | 81.12 | 303.5900 | 138.97 |\n",
       "| 2021-08-31 | 151.83 | 82.37 | 301.8800 | 140.34 |\n",
       "| 2021-09-01 | 152.51 | 82.30 | 301.8300 | 139.30 |\n",
       "| 2021-09-02 | 153.65 | 81.31 | 301.1500 | 140.01 |\n",
       "| 2021-09-03 | 154.30 | 81.18 | 301.1400 | 139.58 |\n",
       "| 2021-09-07 | 156.69 | 78.47 | 300.1800 | 138.06 |\n",
       "| 2021-09-08 | 155.11 | 80.29 | 300.2100 | 138.67 |\n",
       "| 2021-09-09 | 154.07 | 78.05 | 297.2500 | 137.74 |\n",
       "| 2021-09-10 | 148.97 | 79.64 | 295.7100 | 137.02 |\n",
       "| 2021-09-13 | 149.55 | 78.53 | 296.9900 | 138.15 |\n",
       "| 2021-09-14 | 148.12 | 77.84 | 299.7900 | 136.22 |\n",
       "| 2021-09-15 | 149.03 | 78.25 | 304.8200 | 137.20 |\n",
       "| 2021-09-16 | 148.79 | 79.28 | 305.2200 | 136.43 |\n",
       "| 2021-09-17 | 146.06 | 79.56 | 299.8700 | 135.23 |\n",
       "| 2021-09-20 | 142.94 | 76.18 | 294.3000 | 134.31 |\n",
       "| 2021-09-21 | 143.43 | 73.03 | 294.8000 | 132.97 |\n",
       "| 2021-09-22 | 145.85 | 72.81 | 298.5800 | 134.63 |\n",
       "| 2021-09-23 | 146.83 | 74.67 | 299.5600 | 136.73 |\n",
       "| 2021-09-24 | 146.92 | 75.26 | 299.3500 | 137.49 |\n",
       "| 2021-09-27 | 145.37 | 75.08 | 294.1700 | 138.56 |\n",
       "\n"
      ],
      "text/plain": [
       "     Date       Apple     Activision Microsoft IBM     \n",
       "1    1999-11-02 0.6151359 1.059191   29.33471  58.16804\n",
       "2    1999-11-03 0.6247174 1.077773   29.15723  57.89809\n",
       "3    1999-11-04 0.6409678 1.086692   29.07800  56.17409\n",
       "4    1999-11-05 0.6769178 1.143183   29.01778  55.37038\n",
       "5    1999-11-08 0.7386996 1.189267   28.50436  57.70790\n",
       "6    1999-11-09 0.6869592 1.156562   28.16525  57.51132\n",
       "7    1999-11-10 0.7009100 1.129060   27.61063  59.58767\n",
       "8    1999-11-11 0.7071188 1.100815   28.40294  58.35906\n",
       "9    1999-11-12 0.6946245 1.045068   28.26667  58.89351\n",
       "10   1999-11-15 0.6855795 1.049528   27.57260  57.78161\n",
       "11   1999-11-16 0.6989937 1.054731   27.67084  58.12562\n",
       "12   1999-11-17 0.6917883 1.036149   26.93874  57.59118\n",
       "13   1999-11-18 0.6869592 1.082233   26.91973  60.20198\n",
       "14   1999-11-19 0.7085752 1.040608   27.25567  63.85096\n",
       "15   1999-11-22 0.6946245 1.133520   28.46316  66.26518\n",
       "16   1999-11-23 0.7114114 1.189267   28.40294  65.15328\n",
       "17   1999-11-24 0.7258220 1.156562   29.05898  64.19497\n",
       "18   1999-11-26 0.7286582 1.143183   28.87833  64.50212\n",
       "19   1999-11-29 0.7248255 1.156562   28.58359  64.00453\n",
       "20   1999-11-30 0.7501975 1.116424   28.85615  63.31037\n",
       "21   1999-12-01 0.7899801 1.166225   29.53437  63.53152\n",
       "22   1999-12-02 0.8446333 1.161022   30.04779  64.66798\n",
       "23   1999-12-03 0.8815031 1.156562   30.46297  68.72240\n",
       "24   1999-12-06 0.8891684 1.161022   30.24746  71.25948\n",
       "25   1999-12-07 0.9030425 1.076286   29.47416  71.64035\n",
       "26   1999-12-08 0.8436368 1.073313   29.07800  72.66010\n",
       "27   1999-12-09 0.8067670 1.105275   29.39492  69.64386\n",
       "28   1999-12-10 0.7895202 1.166225   29.74988  66.95934\n",
       "29   1999-12-13 0.7588592 1.228661   30.62143  67.38936\n",
       "30   1999-12-14 0.7272018 1.226431   31.27747  67.11292\n",
       "⋮    ⋮          ⋮         ⋮          ⋮         ⋮       \n",
       "5482 2021-08-16 151.12    83.85      294.0336  143.59  \n",
       "5483 2021-08-17 150.19    83.37      292.5166  142.42  \n",
       "5484 2021-08-18 146.36    82.83      290.7300  139.47  \n",
       "5485 2021-08-19 146.70    83.17      296.7700  138.02  \n",
       "5486 2021-08-20 148.19    82.63      304.3600  139.11  \n",
       "5487 2021-08-23 149.71    82.22      304.6500  139.62  \n",
       "5488 2021-08-24 149.62    81.79      302.6200  139.84  \n",
       "5489 2021-08-25 148.36    80.81      302.0100  139.86  \n",
       "5490 2021-08-26 147.54    81.25      299.0900  138.78  \n",
       "5491 2021-08-27 148.60    82.43      299.7200  139.41  \n",
       "5492 2021-08-30 153.12    81.12      303.5900  138.97  \n",
       "5493 2021-08-31 151.83    82.37      301.8800  140.34  \n",
       "5494 2021-09-01 152.51    82.30      301.8300  139.30  \n",
       "5495 2021-09-02 153.65    81.31      301.1500  140.01  \n",
       "5496 2021-09-03 154.30    81.18      301.1400  139.58  \n",
       "5497 2021-09-07 156.69    78.47      300.1800  138.06  \n",
       "5498 2021-09-08 155.11    80.29      300.2100  138.67  \n",
       "5499 2021-09-09 154.07    78.05      297.2500  137.74  \n",
       "5500 2021-09-10 148.97    79.64      295.7100  137.02  \n",
       "5501 2021-09-13 149.55    78.53      296.9900  138.15  \n",
       "5502 2021-09-14 148.12    77.84      299.7900  136.22  \n",
       "5503 2021-09-15 149.03    78.25      304.8200  137.20  \n",
       "5504 2021-09-16 148.79    79.28      305.2200  136.43  \n",
       "5505 2021-09-17 146.06    79.56      299.8700  135.23  \n",
       "5506 2021-09-20 142.94    76.18      294.3000  134.31  \n",
       "5507 2021-09-21 143.43    73.03      294.8000  132.97  \n",
       "5508 2021-09-22 145.85    72.81      298.5800  134.63  \n",
       "5509 2021-09-23 146.83    74.67      299.5600  136.73  \n",
       "5510 2021-09-24 146.92    75.26      299.3500  137.49  \n",
       "5511 2021-09-27 145.37    75.08      294.1700  138.56  "
      ]
     },
     "metadata": {},
     "output_type": "display_data"
    }
   ],
   "source": [
    "return_table <- return_table %>%\n",
    "            filter(Date!=as.Date(\"1999-11-01\"))\n",
    "return_table"
   ]
  },
  {
   "cell_type": "code",
   "execution_count": 31,
   "id": "51414282-cc32-4f33-9d60-667cd877610f",
   "metadata": {},
   "outputs": [
    {
     "data": {
      "text/html": [
       "5511"
      ],
      "text/latex": [
       "5511"
      ],
      "text/markdown": [
       "5511"
      ],
      "text/plain": [
       "[1] 5511"
      ]
     },
     "metadata": {},
     "output_type": "display_data"
    }
   ],
   "source": [
    "nrow(return_table)"
   ]
  },
  {
   "cell_type": "code",
   "execution_count": 32,
   "id": "d86e1c61-146c-4755-b106-13101a12e9ca",
   "metadata": {},
   "outputs": [
    {
     "data": {
      "text/html": [
       "5"
      ],
      "text/latex": [
       "5"
      ],
      "text/markdown": [
       "5"
      ],
      "text/plain": [
       "[1] 5"
      ]
     },
     "metadata": {},
     "output_type": "display_data"
    }
   ],
   "source": [
    "ncol(return_table)"
   ]
  },
  {
   "cell_type": "markdown",
   "id": "fe8cbdb4-5636-43ef-92f2-a4545bc35c0a",
   "metadata": {},
   "source": [
    "Compute the return and export to **csv** file"
   ]
  },
  {
   "cell_type": "code",
   "execution_count": 33,
   "id": "a6656d69-2b99-4316-b9a5-1a8f045cbeb9",
   "metadata": {},
   "outputs": [
    {
     "data": {
      "text/html": [
       "<table>\n",
       "<caption>A data.frame: 6 × 5</caption>\n",
       "<thead>\n",
       "\t<tr><th></th><th scope=col>Date</th><th scope=col>Apple</th><th scope=col>Activision</th><th scope=col>Microsoft</th><th scope=col>IBM</th></tr>\n",
       "\t<tr><th></th><th scope=col>&lt;date&gt;</th><th scope=col>&lt;dbl&gt;</th><th scope=col>&lt;dbl&gt;</th><th scope=col>&lt;dbl&gt;</th><th scope=col>&lt;dbl&gt;</th></tr>\n",
       "</thead>\n",
       "<tbody>\n",
       "\t<tr><th scope=row>1</th><td>1999-11-02</td><td> 0.03388302</td><td> 0.013513514</td><td> 0.002056945</td><td>-0.020051680</td></tr>\n",
       "\t<tr><th scope=row>2</th><td>1999-11-03</td><td> 0.01557632</td><td> 0.017543860</td><td>-0.006050130</td><td>-0.004640861</td></tr>\n",
       "\t<tr><th scope=row>3</th><td>1999-11-04</td><td> 0.02601227</td><td> 0.008275862</td><td>-0.002717391</td><td>-0.029776412</td></tr>\n",
       "\t<tr><th scope=row>4</th><td>1999-11-05</td><td> 0.05608706</td><td> 0.051983584</td><td>-0.002070845</td><td>-0.014307558</td></tr>\n",
       "\t<tr><th scope=row>5</th><td>1999-11-08</td><td> 0.09126939</td><td> 0.040312094</td><td>-0.017693316</td><td> 0.042216066</td></tr>\n",
       "\t<tr><th scope=row>6</th><td>1999-11-09</td><td>-0.07004254</td><td>-0.027500000</td><td>-0.011896820</td><td>-0.003406430</td></tr>\n",
       "</tbody>\n",
       "</table>\n"
      ],
      "text/latex": [
       "A data.frame: 6 × 5\n",
       "\\begin{tabular}{r|lllll}\n",
       "  & Date & Apple & Activision & Microsoft & IBM\\\\\n",
       "  & <date> & <dbl> & <dbl> & <dbl> & <dbl>\\\\\n",
       "\\hline\n",
       "\t1 & 1999-11-02 &  0.03388302 &  0.013513514 &  0.002056945 & -0.020051680\\\\\n",
       "\t2 & 1999-11-03 &  0.01557632 &  0.017543860 & -0.006050130 & -0.004640861\\\\\n",
       "\t3 & 1999-11-04 &  0.02601227 &  0.008275862 & -0.002717391 & -0.029776412\\\\\n",
       "\t4 & 1999-11-05 &  0.05608706 &  0.051983584 & -0.002070845 & -0.014307558\\\\\n",
       "\t5 & 1999-11-08 &  0.09126939 &  0.040312094 & -0.017693316 &  0.042216066\\\\\n",
       "\t6 & 1999-11-09 & -0.07004254 & -0.027500000 & -0.011896820 & -0.003406430\\\\\n",
       "\\end{tabular}\n"
      ],
      "text/markdown": [
       "\n",
       "A data.frame: 6 × 5\n",
       "\n",
       "| <!--/--> | Date &lt;date&gt; | Apple &lt;dbl&gt; | Activision &lt;dbl&gt; | Microsoft &lt;dbl&gt; | IBM &lt;dbl&gt; |\n",
       "|---|---|---|---|---|---|\n",
       "| 1 | 1999-11-02 |  0.03388302 |  0.013513514 |  0.002056945 | -0.020051680 |\n",
       "| 2 | 1999-11-03 |  0.01557632 |  0.017543860 | -0.006050130 | -0.004640861 |\n",
       "| 3 | 1999-11-04 |  0.02601227 |  0.008275862 | -0.002717391 | -0.029776412 |\n",
       "| 4 | 1999-11-05 |  0.05608706 |  0.051983584 | -0.002070845 | -0.014307558 |\n",
       "| 5 | 1999-11-08 |  0.09126939 |  0.040312094 | -0.017693316 |  0.042216066 |\n",
       "| 6 | 1999-11-09 | -0.07004254 | -0.027500000 | -0.011896820 | -0.003406430 |\n",
       "\n"
      ],
      "text/plain": [
       "  Date       Apple       Activision   Microsoft    IBM         \n",
       "1 1999-11-02  0.03388302  0.013513514  0.002056945 -0.020051680\n",
       "2 1999-11-03  0.01557632  0.017543860 -0.006050130 -0.004640861\n",
       "3 1999-11-04  0.02601227  0.008275862 -0.002717391 -0.029776412\n",
       "4 1999-11-05  0.05608706  0.051983584 -0.002070845 -0.014307558\n",
       "5 1999-11-08  0.09126939  0.040312094 -0.017693316  0.042216066\n",
       "6 1999-11-09 -0.07004254 -0.027500000 -0.011896820 -0.003406430"
      ]
     },
     "metadata": {},
     "output_type": "display_data"
    }
   ],
   "source": [
    "for (i in 1:nrow(return_table)){\n",
    "    for (j in 2:ncol(return_table)){\n",
    "        return_table[c(i),c(j)] <- stock_table_arranged[c(i+1),c(j)]/stock_table_arranged[c(i),c(j)]-1\n",
    "    }\n",
    "}\n",
    "head(return_table)"
   ]
  },
  {
   "cell_type": "code",
   "execution_count": 34,
   "id": "a12eb54b-b012-43ea-bb33-3dffda6b77f3",
   "metadata": {},
   "outputs": [],
   "source": [
    "write.csv(return_table, \"Return Table.csv\")"
   ]
  },
  {
   "cell_type": "markdown",
   "id": "25fad4e5-d255-484a-9747-fb8029e4abe7",
   "metadata": {},
   "source": [
    "Plot the counts of returns of `Apple` and `IBM`"
   ]
  },
  {
   "cell_type": "code",
   "execution_count": 35,
   "id": "2a651ddc-c0f2-4c4e-a735-eb4f802704c2",
   "metadata": {},
   "outputs": [
    {
     "data": {},
     "metadata": {},
     "output_type": "display_data"
    },
    {
     "data": {
      "image/png": "[encoded data removed]",
      "text/plain": [
       "plot without title"
      ]
     },
     "metadata": {},
     "output_type": "display_data",
     "source": "R display func"
    }
   ],
   "source": [
    "ggplot(return_table,aes())+\n",
    "geom_area(aes(x=Apple),stat=\"bin\",bins=15,color=\"red\",fill=\"red\",position=position_stack(reverse = TRUE))+\n",
    "geom_area(aes(x=IBM),stat=\"bin\",bins=15,color=\"blue\",fill=\"blue\")+\n",
    "labs(x=\"Returns\",y=\"Counts\",title=\"Counts verus Returns\")+\n",
    "theme(legend.position = \"bottom\")"
   ]
  },
  {
   "cell_type": "code",
   "execution_count": 36,
   "id": "527e6f53-9f58-4e03-a15e-5d13e62003a6",
   "metadata": {},
   "outputs": [
    {
     "data": {
      "text/html": [
       "'numeric'"
      ],
      "text/latex": [
       "'numeric'"
      ],
      "text/markdown": [
       "'numeric'"
      ],
      "text/plain": [
       "[1] \"numeric\""
      ]
     },
     "metadata": {},
     "output_type": "display_data"
    }
   ],
   "source": [
    "x <- return_table['Apple'][c(1),]\n",
    "class(x)"
   ]
  },
  {
   "cell_type": "markdown",
   "id": "d000345d-b4d3-4448-9957-5f7bca1cef02",
   "metadata": {},
   "source": [
    "<a id=\"Establishing_portfolios\"></a>\n",
    "\n",
    "## Part 3: Establishing a random portfolio and computing the worth over time"
   ]
  },
  {
   "cell_type": "markdown",
   "id": "72b06bf0-f089-4018-8a54-989f60003188",
   "metadata": {},
   "source": [
    "Normalize the stock price"
   ]
  },
  {
   "cell_type": "code",
   "execution_count": 37,
   "id": "619e4dfc-fbfc-4ff5-ae52-a9ba9cacea1c",
   "metadata": {},
   "outputs": [
    {
     "data": {
      "text/html": [
       "<table>\n",
       "<caption>A data.frame: 18 × 5</caption>\n",
       "<thead>\n",
       "\t<tr><th></th><th scope=col>Date</th><th scope=col>Apple</th><th scope=col>Activision</th><th scope=col>Microsoft</th><th scope=col>IBM</th></tr>\n",
       "\t<tr><th></th><th scope=col>&lt;date&gt;</th><th scope=col>&lt;dbl&gt;</th><th scope=col>&lt;dbl&gt;</th><th scope=col>&lt;dbl&gt;</th><th scope=col>&lt;dbl&gt;</th></tr>\n",
       "</thead>\n",
       "<tbody>\n",
       "\t<tr><th scope=row>1</th><td>1999-11-01</td><td>1.000000</td><td>1.0000000</td><td>1.0000000</td><td>1.0000000</td></tr>\n",
       "\t<tr><th scope=row>2</th><td>1999-11-02</td><td>1.033883</td><td>1.0135135</td><td>1.0020569</td><td>0.9799483</td></tr>\n",
       "\t<tr><th scope=row>3</th><td>1999-11-03</td><td>1.049987</td><td>1.0312945</td><td>0.9959944</td><td>0.9754005</td></tr>\n",
       "\t<tr><th scope=row>4</th><td>1999-11-04</td><td>1.077300</td><td>1.0398293</td><td>0.9932879</td><td>0.9463566</td></tr>\n",
       "\t<tr><th scope=row>5</th><td>1999-11-05</td><td>1.137722</td><td>1.0938834</td><td>0.9912309</td><td>0.9328165</td></tr>\n",
       "\t<tr><th scope=row>6</th><td>1999-11-08</td><td>1.241561</td><td>1.1379801</td><td>0.9736928</td><td>0.9721964</td></tr>\n",
       "\t<tr><th scope=row>7</th><td>1999-11-09</td><td>1.154599</td><td>1.1066856</td><td>0.9621089</td><td>0.9688847</td></tr>\n",
       "\t<tr><th scope=row>8</th><td>1999-11-10</td><td>1.178047</td><td>1.0803698</td><td>0.9431634</td><td>1.0038647</td></tr>\n",
       "\t<tr><th scope=row>9</th><td>1999-11-11</td><td>1.188482</td><td>1.0533428</td><td>0.9702284</td><td>0.9831665</td></tr>\n",
       "\t<tr><th scope=row>10</th><td>1999-11-12</td><td>1.167483</td><td>1.0000000</td><td>0.9655732</td><td>0.9921702</td></tr>\n",
       "\t<tr><th scope=row>11</th><td>1999-11-15</td><td>1.152280</td><td>1.0042674</td><td>0.9418642</td><td>0.9734383</td></tr>\n",
       "\t<tr><th scope=row>12</th><td>1999-11-16</td><td>1.174826</td><td>1.0092461</td><td>0.9452203</td><td>0.9792338</td></tr>\n",
       "\t<tr><th scope=row>13</th><td>1999-11-17</td><td>1.162716</td><td>0.9914651</td><td>0.9202122</td><td>0.9702300</td></tr>\n",
       "\t<tr><th scope=row>14</th><td>1999-11-18</td><td>1.154599</td><td>1.0355619</td><td>0.9195626</td><td>1.0142138</td></tr>\n",
       "\t<tr><th scope=row>15</th><td>1999-11-19</td><td>1.190930</td><td>0.9957326</td><td>0.9310382</td><td>1.0756876</td></tr>\n",
       "\t<tr><th scope=row>16</th><td>1999-11-22</td><td>1.167483</td><td>1.0846373</td><td>0.9722854</td><td>1.1163596</td></tr>\n",
       "\t<tr><th scope=row>17</th><td>1999-11-23</td><td>1.195697</td><td>1.1379801</td><td>0.9702284</td><td>1.0976277</td></tr>\n",
       "\t<tr><th scope=row>18</th><td>1999-11-24</td><td>1.219918</td><td>1.1066856</td><td>0.9926383</td><td>1.0814831</td></tr>\n",
       "</tbody>\n",
       "</table>\n"
      ],
      "text/latex": [
       "A data.frame: 18 × 5\n",
       "\\begin{tabular}{r|lllll}\n",
       "  & Date & Apple & Activision & Microsoft & IBM\\\\\n",
       "  & <date> & <dbl> & <dbl> & <dbl> & <dbl>\\\\\n",
       "\\hline\n",
       "\t1 & 1999-11-01 & 1.000000 & 1.0000000 & 1.0000000 & 1.0000000\\\\\n",
       "\t2 & 1999-11-02 & 1.033883 & 1.0135135 & 1.0020569 & 0.9799483\\\\\n",
       "\t3 & 1999-11-03 & 1.049987 & 1.0312945 & 0.9959944 & 0.9754005\\\\\n",
       "\t4 & 1999-11-04 & 1.077300 & 1.0398293 & 0.9932879 & 0.9463566\\\\\n",
       "\t5 & 1999-11-05 & 1.137722 & 1.0938834 & 0.9912309 & 0.9328165\\\\\n",
       "\t6 & 1999-11-08 & 1.241561 & 1.1379801 & 0.9736928 & 0.9721964\\\\\n",
       "\t7 & 1999-11-09 & 1.154599 & 1.1066856 & 0.9621089 & 0.9688847\\\\\n",
       "\t8 & 1999-11-10 & 1.178047 & 1.0803698 & 0.9431634 & 1.0038647\\\\\n",
       "\t9 & 1999-11-11 & 1.188482 & 1.0533428 & 0.9702284 & 0.9831665\\\\\n",
       "\t10 & 1999-11-12 & 1.167483 & 1.0000000 & 0.9655732 & 0.9921702\\\\\n",
       "\t11 & 1999-11-15 & 1.152280 & 1.0042674 & 0.9418642 & 0.9734383\\\\\n",
       "\t12 & 1999-11-16 & 1.174826 & 1.0092461 & 0.9452203 & 0.9792338\\\\\n",
       "\t13 & 1999-11-17 & 1.162716 & 0.9914651 & 0.9202122 & 0.9702300\\\\\n",
       "\t14 & 1999-11-18 & 1.154599 & 1.0355619 & 0.9195626 & 1.0142138\\\\\n",
       "\t15 & 1999-11-19 & 1.190930 & 0.9957326 & 0.9310382 & 1.0756876\\\\\n",
       "\t16 & 1999-11-22 & 1.167483 & 1.0846373 & 0.9722854 & 1.1163596\\\\\n",
       "\t17 & 1999-11-23 & 1.195697 & 1.1379801 & 0.9702284 & 1.0976277\\\\\n",
       "\t18 & 1999-11-24 & 1.219918 & 1.1066856 & 0.9926383 & 1.0814831\\\\\n",
       "\\end{tabular}\n"
      ],
      "text/markdown": [
       "\n",
       "A data.frame: 18 × 5\n",
       "\n",
       "| <!--/--> | Date &lt;date&gt; | Apple &lt;dbl&gt; | Activision &lt;dbl&gt; | Microsoft &lt;dbl&gt; | IBM &lt;dbl&gt; |\n",
       "|---|---|---|---|---|---|\n",
       "| 1 | 1999-11-01 | 1.000000 | 1.0000000 | 1.0000000 | 1.0000000 |\n",
       "| 2 | 1999-11-02 | 1.033883 | 1.0135135 | 1.0020569 | 0.9799483 |\n",
       "| 3 | 1999-11-03 | 1.049987 | 1.0312945 | 0.9959944 | 0.9754005 |\n",
       "| 4 | 1999-11-04 | 1.077300 | 1.0398293 | 0.9932879 | 0.9463566 |\n",
       "| 5 | 1999-11-05 | 1.137722 | 1.0938834 | 0.9912309 | 0.9328165 |\n",
       "| 6 | 1999-11-08 | 1.241561 | 1.1379801 | 0.9736928 | 0.9721964 |\n",
       "| 7 | 1999-11-09 | 1.154599 | 1.1066856 | 0.9621089 | 0.9688847 |\n",
       "| 8 | 1999-11-10 | 1.178047 | 1.0803698 | 0.9431634 | 1.0038647 |\n",
       "| 9 | 1999-11-11 | 1.188482 | 1.0533428 | 0.9702284 | 0.9831665 |\n",
       "| 10 | 1999-11-12 | 1.167483 | 1.0000000 | 0.9655732 | 0.9921702 |\n",
       "| 11 | 1999-11-15 | 1.152280 | 1.0042674 | 0.9418642 | 0.9734383 |\n",
       "| 12 | 1999-11-16 | 1.174826 | 1.0092461 | 0.9452203 | 0.9792338 |\n",
       "| 13 | 1999-11-17 | 1.162716 | 0.9914651 | 0.9202122 | 0.9702300 |\n",
       "| 14 | 1999-11-18 | 1.154599 | 1.0355619 | 0.9195626 | 1.0142138 |\n",
       "| 15 | 1999-11-19 | 1.190930 | 0.9957326 | 0.9310382 | 1.0756876 |\n",
       "| 16 | 1999-11-22 | 1.167483 | 1.0846373 | 0.9722854 | 1.1163596 |\n",
       "| 17 | 1999-11-23 | 1.195697 | 1.1379801 | 0.9702284 | 1.0976277 |\n",
       "| 18 | 1999-11-24 | 1.219918 | 1.1066856 | 0.9926383 | 1.0814831 |\n",
       "\n"
      ],
      "text/plain": [
       "   Date       Apple    Activision Microsoft IBM      \n",
       "1  1999-11-01 1.000000 1.0000000  1.0000000 1.0000000\n",
       "2  1999-11-02 1.033883 1.0135135  1.0020569 0.9799483\n",
       "3  1999-11-03 1.049987 1.0312945  0.9959944 0.9754005\n",
       "4  1999-11-04 1.077300 1.0398293  0.9932879 0.9463566\n",
       "5  1999-11-05 1.137722 1.0938834  0.9912309 0.9328165\n",
       "6  1999-11-08 1.241561 1.1379801  0.9736928 0.9721964\n",
       "7  1999-11-09 1.154599 1.1066856  0.9621089 0.9688847\n",
       "8  1999-11-10 1.178047 1.0803698  0.9431634 1.0038647\n",
       "9  1999-11-11 1.188482 1.0533428  0.9702284 0.9831665\n",
       "10 1999-11-12 1.167483 1.0000000  0.9655732 0.9921702\n",
       "11 1999-11-15 1.152280 1.0042674  0.9418642 0.9734383\n",
       "12 1999-11-16 1.174826 1.0092461  0.9452203 0.9792338\n",
       "13 1999-11-17 1.162716 0.9914651  0.9202122 0.9702300\n",
       "14 1999-11-18 1.154599 1.0355619  0.9195626 1.0142138\n",
       "15 1999-11-19 1.190930 0.9957326  0.9310382 1.0756876\n",
       "16 1999-11-22 1.167483 1.0846373  0.9722854 1.1163596\n",
       "17 1999-11-23 1.195697 1.1379801  0.9702284 1.0976277\n",
       "18 1999-11-24 1.219918 1.1066856  0.9926383 1.0814831"
      ]
     },
     "metadata": {},
     "output_type": "display_data"
    }
   ],
   "source": [
    "normalized_stock_price_table <- data.frame(stock_table_arranged)\n",
    "stock_list <- c(\"Apple\",\"Activision\",\"Microsoft\",\"IBM\") \n",
    "for (i in stock_list){\n",
    "    ini_price <- as.numeric(normalized_stock_price_table[i][c(1),])\n",
    "    normalized_stock_price_table[i] <- normalized_stock_price_table[i]/ini_price\n",
    "                            \n",
    "}\n",
    "head(normalized_stock_price_table,n=18)"
   ]
  },
  {
   "cell_type": "code",
   "execution_count": 38,
   "id": "ed1965f6-6566-4102-9de6-5a3d80de6e49",
   "metadata": {},
   "outputs": [],
   "source": [
    "write.csv(normalized_stock_price_table,\"Normalized Stock Price Table.csv\")"
   ]
  },
  {
   "cell_type": "code",
   "execution_count": 39,
   "id": "6997f017-ae50-4517-9c0e-4f8830073b57",
   "metadata": {},
   "outputs": [
    {
     "data": {
      "text/html": [
       "<table>\n",
       "<caption>A data.frame: 6 × 2</caption>\n",
       "<thead>\n",
       "\t<tr><th></th><th scope=col>Date</th><th scope=col>Worth</th></tr>\n",
       "\t<tr><th></th><th scope=col>&lt;date&gt;</th><th scope=col>&lt;dbl&gt;</th></tr>\n",
       "</thead>\n",
       "<tbody>\n",
       "\t<tr><th scope=row>1</th><td>1999-11-01</td><td>0</td></tr>\n",
       "\t<tr><th scope=row>2</th><td>1999-11-02</td><td>0</td></tr>\n",
       "\t<tr><th scope=row>3</th><td>1999-11-03</td><td>0</td></tr>\n",
       "\t<tr><th scope=row>4</th><td>1999-11-04</td><td>0</td></tr>\n",
       "\t<tr><th scope=row>5</th><td>1999-11-05</td><td>0</td></tr>\n",
       "\t<tr><th scope=row>6</th><td>1999-11-08</td><td>0</td></tr>\n",
       "</tbody>\n",
       "</table>\n"
      ],
      "text/latex": [
       "A data.frame: 6 × 2\n",
       "\\begin{tabular}{r|ll}\n",
       "  & Date & Worth\\\\\n",
       "  & <date> & <dbl>\\\\\n",
       "\\hline\n",
       "\t1 & 1999-11-01 & 0\\\\\n",
       "\t2 & 1999-11-02 & 0\\\\\n",
       "\t3 & 1999-11-03 & 0\\\\\n",
       "\t4 & 1999-11-04 & 0\\\\\n",
       "\t5 & 1999-11-05 & 0\\\\\n",
       "\t6 & 1999-11-08 & 0\\\\\n",
       "\\end{tabular}\n"
      ],
      "text/markdown": [
       "\n",
       "A data.frame: 6 × 2\n",
       "\n",
       "| <!--/--> | Date &lt;date&gt; | Worth &lt;dbl&gt; |\n",
       "|---|---|---|\n",
       "| 1 | 1999-11-01 | 0 |\n",
       "| 2 | 1999-11-02 | 0 |\n",
       "| 3 | 1999-11-03 | 0 |\n",
       "| 4 | 1999-11-04 | 0 |\n",
       "| 5 | 1999-11-05 | 0 |\n",
       "| 6 | 1999-11-08 | 0 |\n",
       "\n"
      ],
      "text/plain": [
       "  Date       Worth\n",
       "1 1999-11-01 0    \n",
       "2 1999-11-02 0    \n",
       "3 1999-11-03 0    \n",
       "4 1999-11-04 0    \n",
       "5 1999-11-05 0    \n",
       "6 1999-11-08 0    "
      ]
     },
     "metadata": {},
     "output_type": "display_data"
    }
   ],
   "source": [
    "sample_portfolio_worth <- data.frame(\"Date\"=normalized_stock_price_table$Date,\"Worth\"=rep(0,nrow(normalized_stock_price_table)))\n",
    "head(sample_portfolio_worth)"
   ]
  },
  {
   "cell_type": "markdown",
   "id": "cce01f53-3645-49bb-bdfd-1f8b7eadbbec",
   "metadata": {},
   "source": [
    "Formulate the initial worth and a random portfolio"
   ]
  },
  {
   "cell_type": "code",
   "execution_count": 40,
   "id": "ba24472a-47a7-40a6-a5f8-163b25349ecf",
   "metadata": {},
   "outputs": [
    {
     "data": {
      "text/html": [
       "<style>\n",
       ".list-inline {list-style: none; margin:0; padding: 0}\n",
       ".list-inline>li {display: inline-block}\n",
       ".list-inline>li:not(:last-child)::after {content: \"\\00b7\"; padding: 0 .5ex}\n",
       "</style>\n",
       "<ol class=list-inline><li>0.1</li><li>0.2</li><li>0.3</li><li>0.4</li></ol>\n"
      ],
      "text/latex": [
       "\\begin{enumerate*}\n",
       "\\item 0.1\n",
       "\\item 0.2\n",
       "\\item 0.3\n",
       "\\item 0.4\n",
       "\\end{enumerate*}\n"
      ],
      "text/markdown": [
       "1. 0.1\n",
       "2. 0.2\n",
       "3. 0.3\n",
       "4. 0.4\n",
       "\n",
       "\n"
      ],
      "text/plain": [
       "[1] 0.1 0.2 0.3 0.4"
      ]
     },
     "metadata": {},
     "output_type": "display_data"
    }
   ],
   "source": [
    "ini_worth <- 10000\n",
    "portfolio <- c(10,20,30,40)\n",
    "portfolio <- portfolio/sum(portfolio)\n",
    "portfolio"
   ]
  },
  {
   "cell_type": "markdown",
   "id": "edd47f6a-9d89-4e5e-94c1-946ee88b6fa2",
   "metadata": {},
   "source": [
    "Compute the worth of the portfolio in 2 ways"
   ]
  },
  {
   "cell_type": "code",
   "execution_count": 41,
   "id": "e7f5c93e-73f1-49e6-8a95-05e7be7264f0",
   "metadata": {},
   "outputs": [
    {
     "data": {
      "text/html": [
       "<table>\n",
       "<caption>A data.frame: 8 × 2</caption>\n",
       "<thead>\n",
       "\t<tr><th></th><th scope=col>Date</th><th scope=col>Worth</th></tr>\n",
       "\t<tr><th></th><th scope=col>&lt;date&gt;</th><th scope=col>&lt;dbl&gt;</th></tr>\n",
       "</thead>\n",
       "<tbody>\n",
       "\t<tr><th scope=row>1</th><td>1999-11-01</td><td>10000.000</td></tr>\n",
       "\t<tr><th scope=row>2</th><td>1999-11-02</td><td> 9986.874</td></tr>\n",
       "\t<tr><th scope=row>3</th><td>1999-11-03</td><td>10002.161</td></tr>\n",
       "\t<tr><th scope=row>4</th><td>1999-11-04</td><td> 9922.248</td></tr>\n",
       "\t<tr><th scope=row>5</th><td>1999-11-05</td><td>10030.448</td></tr>\n",
       "\t<tr><th scope=row>6</th><td>1999-11-08</td><td>10327.385</td></tr>\n",
       "\t<tr><th scope=row>7</th><td>1999-11-09</td><td>10129.836</td></tr>\n",
       "\t<tr><th scope=row>8</th><td>1999-11-10</td><td>10183.735</td></tr>\n",
       "</tbody>\n",
       "</table>\n"
      ],
      "text/latex": [
       "A data.frame: 8 × 2\n",
       "\\begin{tabular}{r|ll}\n",
       "  & Date & Worth\\\\\n",
       "  & <date> & <dbl>\\\\\n",
       "\\hline\n",
       "\t1 & 1999-11-01 & 10000.000\\\\\n",
       "\t2 & 1999-11-02 &  9986.874\\\\\n",
       "\t3 & 1999-11-03 & 10002.161\\\\\n",
       "\t4 & 1999-11-04 &  9922.248\\\\\n",
       "\t5 & 1999-11-05 & 10030.448\\\\\n",
       "\t6 & 1999-11-08 & 10327.385\\\\\n",
       "\t7 & 1999-11-09 & 10129.836\\\\\n",
       "\t8 & 1999-11-10 & 10183.735\\\\\n",
       "\\end{tabular}\n"
      ],
      "text/markdown": [
       "\n",
       "A data.frame: 8 × 2\n",
       "\n",
       "| <!--/--> | Date &lt;date&gt; | Worth &lt;dbl&gt; |\n",
       "|---|---|---|\n",
       "| 1 | 1999-11-01 | 10000.000 |\n",
       "| 2 | 1999-11-02 |  9986.874 |\n",
       "| 3 | 1999-11-03 | 10002.161 |\n",
       "| 4 | 1999-11-04 |  9922.248 |\n",
       "| 5 | 1999-11-05 | 10030.448 |\n",
       "| 6 | 1999-11-08 | 10327.385 |\n",
       "| 7 | 1999-11-09 | 10129.836 |\n",
       "| 8 | 1999-11-10 | 10183.735 |\n",
       "\n"
      ],
      "text/plain": [
       "  Date       Worth    \n",
       "1 1999-11-01 10000.000\n",
       "2 1999-11-02  9986.874\n",
       "3 1999-11-03 10002.161\n",
       "4 1999-11-04  9922.248\n",
       "5 1999-11-05 10030.448\n",
       "6 1999-11-08 10327.385\n",
       "7 1999-11-09 10129.836\n",
       "8 1999-11-10 10183.735"
      ]
     },
     "metadata": {},
     "output_type": "display_data"
    }
   ],
   "source": [
    "for (i in 1:nrow(sample_portfolio_worth)){\n",
    "    sample_portfolio_worth[c(i),c(2)]<- (portfolio[1]*normalized_stock_price_table[c(i),2]+portfolio[2]*normalized_stock_price_table[c(i),3]+\n",
    "    portfolio[3]*normalized_stock_price_table[c(i),4]+portfolio[4]*normalized_stock_price_table[c(i),5])*ini_worth\n",
    "}\n",
    "head(sample_portfolio_worth,n=8)"
   ]
  },
  {
   "cell_type": "code",
   "execution_count": 42,
   "id": "39ce4d65-bbda-47f5-8092-6d61a90c2eaf",
   "metadata": {},
   "outputs": [
    {
     "data": {
      "text/html": [
       "<table>\n",
       "<caption>A data.frame: 8 × 2</caption>\n",
       "<thead>\n",
       "\t<tr><th></th><th scope=col>Date</th><th scope=col>Worth</th></tr>\n",
       "\t<tr><th></th><th scope=col>&lt;date&gt;</th><th scope=col>&lt;dbl&gt;</th></tr>\n",
       "</thead>\n",
       "<tbody>\n",
       "\t<tr><th scope=row>1</th><td>1999-11-01</td><td>10000.000</td></tr>\n",
       "\t<tr><th scope=row>2</th><td>1999-11-02</td><td> 9986.874</td></tr>\n",
       "\t<tr><th scope=row>3</th><td>1999-11-03</td><td>10002.161</td></tr>\n",
       "\t<tr><th scope=row>4</th><td>1999-11-04</td><td> 9922.248</td></tr>\n",
       "\t<tr><th scope=row>5</th><td>1999-11-05</td><td>10030.448</td></tr>\n",
       "\t<tr><th scope=row>6</th><td>1999-11-08</td><td>10327.385</td></tr>\n",
       "\t<tr><th scope=row>7</th><td>1999-11-09</td><td>10129.836</td></tr>\n",
       "\t<tr><th scope=row>8</th><td>1999-11-10</td><td>10183.735</td></tr>\n",
       "</tbody>\n",
       "</table>\n"
      ],
      "text/latex": [
       "A data.frame: 8 × 2\n",
       "\\begin{tabular}{r|ll}\n",
       "  & Date & Worth\\\\\n",
       "  & <date> & <dbl>\\\\\n",
       "\\hline\n",
       "\t1 & 1999-11-01 & 10000.000\\\\\n",
       "\t2 & 1999-11-02 &  9986.874\\\\\n",
       "\t3 & 1999-11-03 & 10002.161\\\\\n",
       "\t4 & 1999-11-04 &  9922.248\\\\\n",
       "\t5 & 1999-11-05 & 10030.448\\\\\n",
       "\t6 & 1999-11-08 & 10327.385\\\\\n",
       "\t7 & 1999-11-09 & 10129.836\\\\\n",
       "\t8 & 1999-11-10 & 10183.735\\\\\n",
       "\\end{tabular}\n"
      ],
      "text/markdown": [
       "\n",
       "A data.frame: 8 × 2\n",
       "\n",
       "| <!--/--> | Date &lt;date&gt; | Worth &lt;dbl&gt; |\n",
       "|---|---|---|\n",
       "| 1 | 1999-11-01 | 10000.000 |\n",
       "| 2 | 1999-11-02 |  9986.874 |\n",
       "| 3 | 1999-11-03 | 10002.161 |\n",
       "| 4 | 1999-11-04 |  9922.248 |\n",
       "| 5 | 1999-11-05 | 10030.448 |\n",
       "| 6 | 1999-11-08 | 10327.385 |\n",
       "| 7 | 1999-11-09 | 10129.836 |\n",
       "| 8 | 1999-11-10 | 10183.735 |\n",
       "\n"
      ],
      "text/plain": [
       "  Date       Worth    \n",
       "1 1999-11-01 10000.000\n",
       "2 1999-11-02  9986.874\n",
       "3 1999-11-03 10002.161\n",
       "4 1999-11-04  9922.248\n",
       "5 1999-11-05 10030.448\n",
       "6 1999-11-08 10327.385\n",
       "7 1999-11-09 10129.836\n",
       "8 1999-11-10 10183.735"
      ]
     },
     "metadata": {},
     "output_type": "display_data"
    }
   ],
   "source": [
    "sample_portfolio_worth_copy <- data.frame(sample_portfolio_worth)\n",
    "for (i in 1:nrow(sample_portfolio_worth_copy)){\n",
    "    worth <- 0\n",
    "    for (j in 1:4){\n",
    "        worth <- worth + ini_worth*portfolio[j]*normalized_stock_price_table[c(i),j+1]\n",
    "    }\n",
    "    sample_portfolio_worth_copy[c(i),c(2)]<- worth\n",
    "}\n",
    "head(sample_portfolio_worth_copy,n=8)"
   ]
  },
  {
   "cell_type": "markdown",
   "id": "dde8ede1-8950-416e-b233-3822e2992ed0",
   "metadata": {},
   "source": [
    "Plot the portfolio worth versus time"
   ]
  },
  {
   "cell_type": "code",
   "execution_count": 43,
   "id": "67b360a1-7684-41ad-a21f-917ed6cfc101",
   "metadata": {},
   "outputs": [
    {
     "data": {},
     "metadata": {},
     "output_type": "display_data"
    },
    {
     "data": {
      "image/png": "[encoded data removed]",
      "text/plain": [
       "plot without title"
      ]
     },
     "metadata": {},
     "output_type": "display_data",
     "source": "R display func"
    }
   ],
   "source": [
    "ggplot(data=sample_portfolio_worth_copy,aes(x=Date,y=Worth))+\n",
    "geom_line(color=\"green\")+\n",
    "labs(x=\"Date\",y=\"Portfolio Worth\",title=\"Portfolio Worth versus Time\")"
   ]
  },
  {
   "cell_type": "markdown",
   "id": "d13761a0-928b-4c1d-923a-ba4395112dd0",
   "metadata": {},
   "source": [
    "# Thanks for reading"
   ]
  }
 ],
 "metadata": {
  "kernelspec": {
   "display_name": "R",
   "language": "R",
   "name": "conda-env-r-r"
  },
  "language_info": {
   "codemirror_mode": "r",
   "file_extension": ".r",
   "mimetype": "text/x-r-source",
   "name": "R",
   "pygments_lexer": "r",
   "version": "3.5.1"
  }
 },
 "nbformat": 4,
 "nbformat_minor": 5
}
